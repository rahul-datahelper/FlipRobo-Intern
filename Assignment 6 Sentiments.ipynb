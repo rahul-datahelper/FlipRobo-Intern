{
 "cells": [
  {
   "cell_type": "markdown",
   "metadata": {},
   "source": [
    "### Pick your own document (say A) and create BOW using a count vectorizer. Use another document (say B) and identify how many words of the B document are present in the BOW of A. "
   ]
  },
  {
   "cell_type": "code",
   "execution_count": 17,
   "metadata": {},
   "outputs": [
    {
     "name": "stderr",
     "output_type": "stream",
     "text": [
      "[nltk_data] Downloading package stopwords to\n",
      "[nltk_data]     C:\\Users\\RAJSHREE\\AppData\\Roaming\\nltk_data...\n",
      "[nltk_data]   Package stopwords is already up-to-date!\n"
     ]
    }
   ],
   "source": [
    "import nltk\n",
    "nltk.download('stopwords')\n",
    "import pandas as pd\n",
    "from sklearn.feature_extraction.text import CountVectorizer\n",
    "from nltk.corpus import stopwords\n",
    "\n",
    "doc_1=[\"Data science is an inter-disciplinary field that uses scientific methods, processes, algorithms and systems to extract knowledge and insights from many structural and unstructured data. Data science is related to data mining, machine learning and big data.Data science is a concept to unify statistics, data analysis, machine learning, domain knowledge and their related methods in order to understand and analyze actual phenomena with data.It uses techniques and theories drawn from many fields within the context of mathematics, statistics, computer science, domain knowledge and information science. Turing award winner Jim Gray imagined data scienceas a fourth paradigm of science (empirical, theoretical, computational and now data-driven and asserted that everything about science is changing because of the impact of information technology and the data deluge\"]\n",
    "\n",
    "doc_2=[\"Machine learning (ML) is the study of computer algorithms that improve automatically through experience.It is seen as a subset of artificial intelligence. Machine learning algorithms build a mathematical model based on sample data, known as training data, in order to make predictions or decisions without being explicitly programmed to do so.Machine learning algorithms are used in a wide variety of applications, such as email filtering and computer vision, where it is difficult or infeasible to develop conventional algorithms to perform the needed tasks.Machine learning is closely related to computational statistics, which focuses on making predictions using computers. The study of mathematical optimization delivers methods, theory and application domains to the field of machine learning. Data mining is a related field of study, focusing on exploratory data analysis through unsupervised learning.In its application across business problems, machine learning is also referred to as predictive analytics.\"]"
   ]
  },
  {
   "cell_type": "code",
   "execution_count": 7,
   "metadata": {},
   "outputs": [
    {
     "name": "stdout",
     "output_type": "stream",
     "text": [
      "Bag of Words of DOC 1 : ['actual', 'algorithms', 'analysis', 'analyze', 'asserted', 'award', 'big', 'changing', 'computational', 'computer', 'concept', 'context', 'data', 'deluge', 'disciplinary', 'domain', 'drawn', 'driven', 'empirical', 'everything', 'extract', 'field', 'fields', 'fourth', 'gray', 'imagined', 'impact', 'information', 'insights', 'inter', 'jim', 'knowledge', 'learning', 'machine', 'many', 'mathematics', 'methods', 'mining', 'order', 'paradigm', 'phenomena', 'processes', 'related', 'science', 'scienceas', 'scientific', 'statistics', 'structural', 'systems', 'techniques', 'technology', 'theoretical', 'theories', 'turing', 'understand', 'unify', 'unstructured', 'uses', 'winner', 'within']\n"
     ]
    }
   ],
   "source": [
    "stop_words = stopwords.words('english')\n",
    "c_vect = CountVectorizer(stop_words=stop_words)\n",
    "\n",
    "c_vect.fit_transform(doc_1)\n",
    "print(\"Bag of Words of DOC 1 :\",c_vect.get_feature_names())"
   ]
  },
  {
   "cell_type": "code",
   "execution_count": 8,
   "metadata": {},
   "outputs": [
    {
     "name": "stdout",
     "output_type": "stream",
     "text": [
      "Bag of Words of DOC 2 : ['across', 'algorithms', 'also', 'analysis', 'analytics', 'application', 'applications', 'artificial', 'automatically', 'based', 'build', 'business', 'closely', 'computational', 'computer', 'computers', 'conventional', 'data', 'decisions', 'delivers', 'develop', 'difficult', 'domains', 'email', 'experience', 'explicitly', 'exploratory', 'field', 'filtering', 'focuses', 'focusing', 'improve', 'infeasible', 'intelligence', 'known', 'learning', 'machine', 'make', 'making', 'mathematical', 'methods', 'mining', 'ml', 'model', 'needed', 'optimization', 'order', 'perform', 'predictions', 'predictive', 'problems', 'programmed', 'referred', 'related', 'sample', 'seen', 'statistics', 'study', 'subset', 'tasks', 'theory', 'training', 'unsupervised', 'used', 'using', 'variety', 'vision', 'wide', 'without']\n"
     ]
    }
   ],
   "source": [
    "c_vect.fit_transform(doc_2)\n",
    "print(\"Bag of Words of DOC 2 :\",c_vect.get_feature_names())"
   ]
  },
  {
   "cell_type": "code",
   "execution_count": 9,
   "metadata": {},
   "outputs": [],
   "source": [
    "c_vect_2 = c_vect.transform(doc_2)"
   ]
  },
  {
   "cell_type": "code",
   "execution_count": 12,
   "metadata": {},
   "outputs": [],
   "source": [
    "df = pd.DataFrame(c_vect_2.toarray(),columns=c_vect.get_feature_names())"
   ]
  },
  {
   "cell_type": "code",
   "execution_count": 13,
   "metadata": {},
   "outputs": [
    {
     "data": {
      "text/plain": [
       "Index(['across', 'algorithms', 'also', 'analysis', 'analytics', 'application',\n",
       "       'applications', 'artificial', 'automatically', 'based', 'build',\n",
       "       'business', 'closely', 'computational', 'computer', 'computers',\n",
       "       'conventional', 'data', 'decisions', 'delivers', 'develop', 'difficult',\n",
       "       'domains', 'email', 'experience', 'explicitly', 'exploratory', 'field',\n",
       "       'filtering', 'focuses', 'focusing', 'improve', 'infeasible',\n",
       "       'intelligence', 'known', 'learning', 'machine', 'make', 'making',\n",
       "       'mathematical', 'methods', 'mining', 'ml', 'model', 'needed',\n",
       "       'optimization', 'order', 'perform', 'predictions', 'predictive',\n",
       "       'problems', 'programmed', 'referred', 'related', 'sample', 'seen',\n",
       "       'statistics', 'study', 'subset', 'tasks', 'theory', 'training',\n",
       "       'unsupervised', 'used', 'using', 'variety', 'vision', 'wide',\n",
       "       'without'],\n",
       "      dtype='object')"
      ]
     },
     "execution_count": 13,
     "metadata": {},
     "output_type": "execute_result"
    }
   ],
   "source": [
    "df.columns"
   ]
  },
  {
   "cell_type": "code",
   "execution_count": 16,
   "metadata": {},
   "outputs": [
    {
     "data": {
      "text/html": [
       "<div>\n",
       "<style scoped>\n",
       "    .dataframe tbody tr th:only-of-type {\n",
       "        vertical-align: middle;\n",
       "    }\n",
       "\n",
       "    .dataframe tbody tr th {\n",
       "        vertical-align: top;\n",
       "    }\n",
       "\n",
       "    .dataframe thead th {\n",
       "        text-align: right;\n",
       "    }\n",
       "</style>\n",
       "<table border=\"1\" class=\"dataframe\">\n",
       "  <thead>\n",
       "    <tr style=\"text-align: right;\">\n",
       "      <th></th>\n",
       "      <th>across</th>\n",
       "      <th>algorithms</th>\n",
       "      <th>also</th>\n",
       "      <th>analysis</th>\n",
       "      <th>analytics</th>\n",
       "      <th>application</th>\n",
       "      <th>applications</th>\n",
       "      <th>artificial</th>\n",
       "      <th>automatically</th>\n",
       "      <th>based</th>\n",
       "      <th>build</th>\n",
       "      <th>business</th>\n",
       "      <th>closely</th>\n",
       "      <th>computational</th>\n",
       "      <th>computer</th>\n",
       "      <th>computers</th>\n",
       "      <th>conventional</th>\n",
       "      <th>data</th>\n",
       "      <th>decisions</th>\n",
       "      <th>delivers</th>\n",
       "      <th>develop</th>\n",
       "      <th>difficult</th>\n",
       "      <th>domains</th>\n",
       "      <th>email</th>\n",
       "      <th>experience</th>\n",
       "      <th>explicitly</th>\n",
       "      <th>exploratory</th>\n",
       "      <th>field</th>\n",
       "      <th>filtering</th>\n",
       "      <th>focuses</th>\n",
       "      <th>focusing</th>\n",
       "      <th>improve</th>\n",
       "      <th>infeasible</th>\n",
       "      <th>intelligence</th>\n",
       "      <th>known</th>\n",
       "      <th>learning</th>\n",
       "      <th>machine</th>\n",
       "      <th>make</th>\n",
       "      <th>making</th>\n",
       "      <th>mathematical</th>\n",
       "      <th>methods</th>\n",
       "      <th>mining</th>\n",
       "      <th>ml</th>\n",
       "      <th>model</th>\n",
       "      <th>needed</th>\n",
       "      <th>optimization</th>\n",
       "      <th>order</th>\n",
       "      <th>perform</th>\n",
       "      <th>predictions</th>\n",
       "      <th>predictive</th>\n",
       "      <th>problems</th>\n",
       "      <th>programmed</th>\n",
       "      <th>referred</th>\n",
       "      <th>related</th>\n",
       "      <th>sample</th>\n",
       "      <th>seen</th>\n",
       "      <th>statistics</th>\n",
       "      <th>study</th>\n",
       "      <th>subset</th>\n",
       "      <th>tasks</th>\n",
       "      <th>theory</th>\n",
       "      <th>training</th>\n",
       "      <th>unsupervised</th>\n",
       "      <th>used</th>\n",
       "      <th>using</th>\n",
       "      <th>variety</th>\n",
       "      <th>vision</th>\n",
       "      <th>wide</th>\n",
       "      <th>without</th>\n",
       "    </tr>\n",
       "  </thead>\n",
       "  <tbody>\n",
       "    <tr>\n",
       "      <th>0</th>\n",
       "      <td>1</td>\n",
       "      <td>4</td>\n",
       "      <td>1</td>\n",
       "      <td>1</td>\n",
       "      <td>1</td>\n",
       "      <td>2</td>\n",
       "      <td>1</td>\n",
       "      <td>1</td>\n",
       "      <td>1</td>\n",
       "      <td>1</td>\n",
       "      <td>1</td>\n",
       "      <td>1</td>\n",
       "      <td>1</td>\n",
       "      <td>1</td>\n",
       "      <td>2</td>\n",
       "      <td>1</td>\n",
       "      <td>1</td>\n",
       "      <td>4</td>\n",
       "      <td>1</td>\n",
       "      <td>1</td>\n",
       "      <td>1</td>\n",
       "      <td>1</td>\n",
       "      <td>1</td>\n",
       "      <td>1</td>\n",
       "      <td>1</td>\n",
       "      <td>1</td>\n",
       "      <td>1</td>\n",
       "      <td>2</td>\n",
       "      <td>1</td>\n",
       "      <td>1</td>\n",
       "      <td>1</td>\n",
       "      <td>1</td>\n",
       "      <td>1</td>\n",
       "      <td>1</td>\n",
       "      <td>1</td>\n",
       "      <td>7</td>\n",
       "      <td>6</td>\n",
       "      <td>1</td>\n",
       "      <td>1</td>\n",
       "      <td>2</td>\n",
       "      <td>1</td>\n",
       "      <td>1</td>\n",
       "      <td>1</td>\n",
       "      <td>1</td>\n",
       "      <td>1</td>\n",
       "      <td>1</td>\n",
       "      <td>1</td>\n",
       "      <td>1</td>\n",
       "      <td>2</td>\n",
       "      <td>1</td>\n",
       "      <td>1</td>\n",
       "      <td>1</td>\n",
       "      <td>1</td>\n",
       "      <td>2</td>\n",
       "      <td>1</td>\n",
       "      <td>1</td>\n",
       "      <td>1</td>\n",
       "      <td>3</td>\n",
       "      <td>1</td>\n",
       "      <td>1</td>\n",
       "      <td>1</td>\n",
       "      <td>1</td>\n",
       "      <td>1</td>\n",
       "      <td>1</td>\n",
       "      <td>1</td>\n",
       "      <td>1</td>\n",
       "      <td>1</td>\n",
       "      <td>1</td>\n",
       "      <td>1</td>\n",
       "    </tr>\n",
       "  </tbody>\n",
       "</table>\n",
       "</div>"
      ],
      "text/plain": [
       "   across  algorithms  also  analysis  analytics  application  applications  \\\n",
       "0       1           4     1         1          1            2             1   \n",
       "\n",
       "   artificial  automatically  based  build  business  closely  computational  \\\n",
       "0           1              1      1      1         1        1              1   \n",
       "\n",
       "   computer  computers  conventional  data  decisions  delivers  develop  \\\n",
       "0         2          1             1     4          1         1        1   \n",
       "\n",
       "   difficult  domains  email  experience  explicitly  exploratory  field  \\\n",
       "0          1        1      1           1           1            1      2   \n",
       "\n",
       "   filtering  focuses  focusing  improve  infeasible  intelligence  known  \\\n",
       "0          1        1         1        1           1             1      1   \n",
       "\n",
       "   learning  machine  make  making  mathematical  methods  mining  ml  model  \\\n",
       "0         7        6     1       1             2        1       1   1      1   \n",
       "\n",
       "   needed  optimization  order  perform  predictions  predictive  problems  \\\n",
       "0       1             1      1        1            2           1         1   \n",
       "\n",
       "   programmed  referred  related  sample  seen  statistics  study  subset  \\\n",
       "0           1         1        2       1     1           1      3       1   \n",
       "\n",
       "   tasks  theory  training  unsupervised  used  using  variety  vision  wide  \\\n",
       "0      1       1         1             1     1      1        1       1     1   \n",
       "\n",
       "   without  \n",
       "0        1  "
      ]
     },
     "execution_count": 16,
     "metadata": {},
     "output_type": "execute_result"
    }
   ],
   "source": [
    "pd.set_option('display.max_columns', None)\n",
    "df"
   ]
  },
  {
   "cell_type": "markdown",
   "metadata": {},
   "source": []
  },
  {
   "cell_type": "markdown",
   "metadata": {},
   "source": [
    "### Pick your choice of document and update the emotion document accordingly (you document words and associated emotion where applicable) and analyse the sentiments of people."
   ]
  },
  {
   "cell_type": "code",
   "execution_count": 18,
   "metadata": {},
   "outputs": [],
   "source": [
    "from collections import Counter\n",
    "import matplotlib.pyplot as plt\n",
    "from nltk.corpus import stopwords\n",
    "from nltk.stem import WordNetLemmatizer\n",
    "from nltk.tokenize import word_tokenize\n",
    "from nltk.sentiment.vader import SentimentIntensityAnalyzer"
   ]
  },
  {
   "cell_type": "code",
   "execution_count": 20,
   "metadata": {},
   "outputs": [],
   "source": [
    "file=open(r\"C:\\Users\\RAJSHREE\\Desktop\\plot.txt\").read()"
   ]
  },
  {
   "cell_type": "code",
   "execution_count": 21,
   "metadata": {},
   "outputs": [
    {
     "data": {
      "text/plain": [
       "'the alchemist follows the journey of an andalusian shepherd boy named santiago. believing a recurring dream to be prophetic, he asks a gypsy fortune teller in the nearby town about its meaning. the woman interprets the dream as a prophecy telling the boy that he will discover a treasure at the egyptian pyramids.\\n\\nearly into his journey, he meets an old king named melchizedek, or the king of salem, who tells him to sell his sheep, so as to travel to egypt, and introduces the idea of a personal legend. your personal legend \"is what you have always wanted to accomplish. everyone, when they are young, knows what their personal legend is.\"[3]\\n\\n\\nthe pyramids of giza\\nearly in his arrival to africa, a man who claims to be able to take santiago to the pyramids instead robs him of what money he had made from selling his sheep. santiago then embarks on a long path of working for a crystal merchant so as to make enough money to fulfill his personal legend and go to the pyramids.\\n\\nalong the way, the boy meets an englishman who has come in search of an alchemist and continues his travels with his new companion. when they reach an oasis, santiago meets and falls in love with an arabian girl named fatima, to whom he proposes marriage. she promises to do so only after he completes his journey. frustrated at first, he later learns that true love will not stop nor must one sacrifice to it one\\'s personal destiny, since to do so robs it of truth.\\n\\nthe boy then encounters a wise alchemist who also teaches him to realize his true self. together, they risk a journey through the territory of warring tribes, where the boy is forced to demonstrate his oneness with \"the soul of the world\" by turning himself into a simoom before he is allowed to proceed. when he begins digging within sight of the pyramids, he is robbed yet again, but accidentally learns from the leader of the thieves that the treasure he sought all along was in the ruined church where he had his original dream.'"
      ]
     },
     "execution_count": 21,
     "metadata": {},
     "output_type": "execute_result"
    }
   ],
   "source": [
    "file_lower = file.lower()\n",
    "file_lower"
   ]
  },
  {
   "cell_type": "code",
   "execution_count": 22,
   "metadata": {},
   "outputs": [
    {
     "data": {
      "text/plain": [
       "'the alchemist follows the journey of an andalusian shepherd boy named santiago believing a recurring dream to be prophetic he asks a gypsy fortune teller in the nearby town about its meaning the woman interprets the dream as a prophecy telling the boy that he will discover a treasure at the egyptian pyramids\\n\\nearly into his journey he meets an old king named melchizedek or the king of salem who tells him to sell his sheep so as to travel to egypt and introduces the idea of a personal legend your personal legend is what you have always wanted to accomplish everyone when they are young knows what their personal legend is3\\n\\n\\nthe pyramids of giza\\nearly in his arrival to africa a man who claims to be able to take santiago to the pyramids instead robs him of what money he had made from selling his sheep santiago then embarks on a long path of working for a crystal merchant so as to make enough money to fulfill his personal legend and go to the pyramids\\n\\nalong the way the boy meets an englishman who has come in search of an alchemist and continues his travels with his new companion when they reach an oasis santiago meets and falls in love with an arabian girl named fatima to whom he proposes marriage she promises to do so only after he completes his journey frustrated at first he later learns that true love will not stop nor must one sacrifice to it ones personal destiny since to do so robs it of truth\\n\\nthe boy then encounters a wise alchemist who also teaches him to realize his true self together they risk a journey through the territory of warring tribes where the boy is forced to demonstrate his oneness with the soul of the world by turning himself into a simoom before he is allowed to proceed when he begins digging within sight of the pyramids he is robbed yet again but accidentally learns from the leader of the thieves that the treasure he sought all along was in the ruined church where he had his original dream'"
      ]
     },
     "execution_count": 22,
     "metadata": {},
     "output_type": "execute_result"
    }
   ],
   "source": [
    "file_cleaned = file_lower.translate(str.maketrans('','',string.punctuation))\n",
    "file_cleaned"
   ]
  },
  {
   "cell_type": "code",
   "execution_count": 24,
   "metadata": {},
   "outputs": [
    {
     "data": {
      "text/plain": [
       "'the alchemist follows the journey of an andalusian shepherd boy named santiago believing a recurring dream to be prophetic he asks a gypsy fortune teller in the nearby town about its meaning the woman interprets the dream as a prophecy telling the boy that he will discover a treasure at the egyptian pyramidsearly into his journey he meets an old king named melchizedek or the king of salem who tells him to sell his sheep so as to travel to egypt and introduces the idea of a personal legend your personal legend is what you have always wanted to accomplish everyone when they are young knows what their personal legend is3the pyramids of gizaearly in his arrival to africa a man who claims to be able to take santiago to the pyramids instead robs him of what money he had made from selling his sheep santiago then embarks on a long path of working for a crystal merchant so as to make enough money to fulfill his personal legend and go to the pyramidsalong the way the boy meets an englishman who has come in search of an alchemist and continues his travels with his new companion when they reach an oasis santiago meets and falls in love with an arabian girl named fatima to whom he proposes marriage she promises to do so only after he completes his journey frustrated at first he later learns that true love will not stop nor must one sacrifice to it ones personal destiny since to do so robs it of truththe boy then encounters a wise alchemist who also teaches him to realize his true self together they risk a journey through the territory of warring tribes where the boy is forced to demonstrate his oneness with the soul of the world by turning himself into a simoom before he is allowed to proceed when he begins digging within sight of the pyramids he is robbed yet again but accidentally learns from the leader of the thieves that the treasure he sought all along was in the ruined church where he had his original dream'"
      ]
     },
     "execution_count": 24,
     "metadata": {},
     "output_type": "execute_result"
    }
   ],
   "source": [
    "clean_text = file_cleaned.replace('\\n', '')\n",
    "clean_text"
   ]
  },
  {
   "cell_type": "code",
   "execution_count": 29,
   "metadata": {},
   "outputs": [
    {
     "name": "stderr",
     "output_type": "stream",
     "text": [
      "[nltk_data] Downloading package punkt to\n",
      "[nltk_data]     C:\\Users\\RAJSHREE\\AppData\\Roaming\\nltk_data...\n",
      "[nltk_data]   Unzipping tokenizers\\punkt.zip.\n"
     ]
    }
   ],
   "source": [
    "nltk.download('punkt')\n",
    "tokenized_words = word_tokenize(clean_text, \"english\")"
   ]
  },
  {
   "cell_type": "code",
   "execution_count": 30,
   "metadata": {},
   "outputs": [
    {
     "data": {
      "text/plain": [
       "353"
      ]
     },
     "execution_count": 30,
     "metadata": {},
     "output_type": "execute_result"
    }
   ],
   "source": [
    "len(tokenized_words)"
   ]
  },
  {
   "cell_type": "code",
   "execution_count": 31,
   "metadata": {},
   "outputs": [],
   "source": [
    "cleaned_list = []\n",
    "\n",
    "for word in tokenized_words:\n",
    "    if word not in stopwords.words('english'):\n",
    "        cleaned_list.append(word)"
   ]
  },
  {
   "cell_type": "code",
   "execution_count": 33,
   "metadata": {},
   "outputs": [
    {
     "name": "stderr",
     "output_type": "stream",
     "text": [
      "[nltk_data] Downloading package wordnet to\n",
      "[nltk_data]     C:\\Users\\RAJSHREE\\AppData\\Roaming\\nltk_data...\n",
      "[nltk_data]   Unzipping corpora\\wordnet.zip.\n"
     ]
    }
   ],
   "source": [
    "nltk.download('wordnet')\n",
    "base_words = []\n",
    "\n",
    "wnl = WordNetLemmatizer()\n",
    "\n",
    "for word in cleaned_list:\n",
    "    word = wnl.lemmatize(word)\n",
    "    base_words.append(word)"
   ]
  },
  {
   "cell_type": "code",
   "execution_count": 39,
   "metadata": {},
   "outputs": [],
   "source": [
    "emotion_list = []\n",
    "with open(r\"C:\\Users\\RAJSHREE\\Desktop\\emotions.txt\", 'r') as file:\n",
    "    for line in file:\n",
    "        clear_line = line.replace(\"\\n\", '').replace(\",\", '').replace(\"'\", '').strip()\n",
    "        word, emotion = clear_line.split(':')\n",
    "\n",
    "        if word in base_words:\n",
    "            emotion_list.append(emotion)\n",
    "            \n",
    "w = Counter(emotion_list)"
   ]
  },
  {
   "cell_type": "code",
   "execution_count": 40,
   "metadata": {},
   "outputs": [
    {
     "data": {
      "image/png": "[encoded data removed]",
      "text/plain": [
       "<Figure size 432x288 with 1 Axes>"
      ]
     },
     "metadata": {
      "needs_background": "light"
     },
     "output_type": "display_data"
    }
   ],
   "source": [
    "fig, ax1 = plt.subplots()\n",
    "ax1.bar(w.keys(), w.values())\n",
    "fig.autofmt_xdate()\n",
    "plt.savefig('graph.png')\n",
    "plt.show()"
   ]
  },
  {
   "cell_type": "markdown",
   "metadata": {},
   "source": [
    "Moreover it looks like that the plot of the novel from the alchemist the main character faced many losses before he got as he wished"
   ]
  },
  {
   "cell_type": "markdown",
   "metadata": {},
   "source": []
  },
  {
   "cell_type": "markdown",
   "metadata": {},
   "source": [
    "### Fetch one month of data of coronavirus from twitter before it's outbreak and after outbreak and compare peoples emotion\n",
    "Use NLTK library for tokenization and for stopwords.\n"
   ]
  },
  {
   "cell_type": "code",
   "execution_count": 41,
   "metadata": {},
   "outputs": [
    {
     "name": "stdout",
     "output_type": "stream",
     "text": [
      "Collecting GetOldTweets3\n",
      "  Downloading GetOldTweets3-0.0.11-py3-none-any.whl (13 kB)\n",
      "Collecting pyquery>=1.2.10\n",
      "  Using cached pyquery-1.4.1-py2.py3-none-any.whl (22 kB)\n",
      "Collecting lxml>=3.5.0\n",
      "  Downloading lxml-4.5.2-cp37-cp37m-win_amd64.whl (3.5 MB)\n",
      "Collecting cssselect>0.7.9\n",
      "  Using cached cssselect-1.1.0-py2.py3-none-any.whl (16 kB)\n",
      "Installing collected packages: lxml, cssselect, pyquery, GetOldTweets3\n",
      "Successfully installed GetOldTweets3-0.0.11 cssselect-1.1.0 lxml-4.5.2 pyquery-1.4.1\n"
     ]
    }
   ],
   "source": [
    "!pip install GetOldTweets3"
   ]
  },
  {
   "cell_type": "code",
   "execution_count": 42,
   "metadata": {},
   "outputs": [],
   "source": [
    "import string\n",
    "from collections import Counter\n",
    "import matplotlib.pyplot as plt\n",
    "import GetOldTweets3 as got"
   ]
  },
  {
   "cell_type": "code",
   "execution_count": 43,
   "metadata": {},
   "outputs": [],
   "source": [
    "def get_tweets(keyword,fromDate,toDate,tweetCount):\n",
    "    tweetCriteria = got.manager.TweetCriteria().setQuerySearch(keyword) \\\n",
    "        .setLang('english') \\\n",
    "        .setSince(fromDate) \\\n",
    "        .setUntil(toDate) \\\n",
    "        .setMaxTweets(tweetCount)\n",
    "    \n",
    "    tweets = got.manager.TweetManager.getTweets(tweetCriteria)\n",
    "    \n",
    "    tweets = [[tweet.text] for tweet in tweets]\n",
    "    return tweets"
   ]
  },
  {
   "cell_type": "code",
   "execution_count": 45,
   "metadata": {},
   "outputs": [],
   "source": [
    "before_outbreak_tweets = get_tweets(\"coronavirus\",\"2020-02-01\",\"2020-02-29\",5000)"
   ]
  },
  {
   "cell_type": "code",
   "execution_count": 46,
   "metadata": {},
   "outputs": [
    {
     "name": "stdout",
     "output_type": "stream",
     "text": [
      "5000\n"
     ]
    }
   ],
   "source": [
    "length = len(before_outbreak_tweets)\n",
    "print(length)"
   ]
  },
  {
   "cell_type": "code",
   "execution_count": 47,
   "metadata": {},
   "outputs": [],
   "source": [
    "plain_text = ''\n",
    "for i in range(0, length):\n",
    "    plain_text = before_outbreak_tweets[i][0] + \" \" + plain_text"
   ]
  },
  {
   "cell_type": "code",
   "execution_count": 48,
   "metadata": {},
   "outputs": [],
   "source": [
    "lower_case  = plain_text.lower()"
   ]
  },
  {
   "cell_type": "code",
   "execution_count": 49,
   "metadata": {},
   "outputs": [],
   "source": [
    "cleaned_text = lower_case.translate(str.maketrans('','',string.punctuation))"
   ]
  },
  {
   "cell_type": "code",
   "execution_count": 50,
   "metadata": {},
   "outputs": [],
   "source": [
    "from nltk.tokenize import word_tokenize\n",
    "\n",
    "tokenized_words = word_tokenize(cleaned_text, \"english\")"
   ]
  },
  {
   "cell_type": "code",
   "execution_count": 51,
   "metadata": {},
   "outputs": [],
   "source": [
    "from nltk.corpus import stopwords\n",
    "\n",
    "final_words = []\n",
    "\n",
    "for word in tokenized_words:\n",
    "    if word not in stopwords.words('english'):\n",
    "        final_words.append(word)"
   ]
  },
  {
   "cell_type": "code",
   "execution_count": 52,
   "metadata": {},
   "outputs": [],
   "source": [
    "from nltk.stem import WordNetLemmatizer\n",
    "\n",
    "lemma_words = []\n",
    "\n",
    "for word in final_words:\n",
    "    word = WordNetLemmatizer().lemmatize(word)\n",
    "    lemma_words.append(word)"
   ]
  },
  {
   "cell_type": "code",
   "execution_count": 53,
   "metadata": {},
   "outputs": [
    {
     "name": "stdout",
     "output_type": "stream",
     "text": [
      "Count of each emotion \n",
      " Counter({' happy': 12, ' fearful': 12, ' sad': 11, ' angry': 9, ' powerless': 9, ' attracted': 8, ' adequate': 6, ' hated': 6, ' singled out': 5, ' fearless': 4, ' attached': 4, ' average': 3, ' surprise': 3, ' focused': 3, ' entitled': 3, ' cheated': 2, ' safe': 2, ' demoralized': 2, ' free': 2, ' alone': 2, ' esteemed': 2, ' anxious': 2, ' bored': 1, ' ecstatic': 1, ' lost': 1, ' independent': 1, ' apathetic': 1, ' embarrassed': 1, ' obsessed': 1, ' loved': 1})\n"
     ]
    }
   ],
   "source": [
    "emotion_list = []\n",
    "\n",
    "with open(r\"E:\\Flip robo Internship\\sentiment_analysis_all_files\\emotions.txt\", 'r') as file:\n",
    "    for line in file:\n",
    "        clear_line = line.replace(\"\\n\", '').replace(\",\", '').replace(\"'\", '').strip()\n",
    "        word, emotion = clear_line.split(':')\n",
    "\n",
    "        if word in lemma_words:\n",
    "            emotion_list.append(emotion)\n",
    "            \n",
    "\n",
    "\n",
    "w = Counter(emotion_list)\n",
    "print(\"Count of each emotion \\n\", w)"
   ]
  },
  {
   "cell_type": "code",
   "execution_count": 54,
   "metadata": {},
   "outputs": [
    {
     "data": {
      "image/png": "[encoded data removed]",
      "text/plain": [
       "<Figure size 432x288 with 1 Axes>"
      ]
     },
     "metadata": {
      "needs_background": "light"
     },
     "output_type": "display_data"
    }
   ],
   "source": [
    "fig, ax1 = plt.subplots()\n",
    "ax1.set_title('Sentiments on COVID Before Outbreak')\n",
    "ax1.bar(w.keys(), w.values())\n",
    "fig.autofmt_xdate(rotation=90)\n",
    "plt.savefig('graph.png')\n",
    "plt.show()"
   ]
  },
  {
   "cell_type": "code",
   "execution_count": 56,
   "metadata": {},
   "outputs": [],
   "source": [
    "after_outbreak_tweets = get_tweets(\"coronavirus\",\"2020-04-01\",\"2020-04-29\",5000)"
   ]
  },
  {
   "cell_type": "code",
   "execution_count": 57,
   "metadata": {},
   "outputs": [],
   "source": [
    "length = len(after_outbreak_tweets)\n",
    "\n",
    "plain_text = ''\n",
    "for i in range(0, length):\n",
    "    plain_text = after_outbreak_tweets[i][0] + \" \" + plain_text\n",
    "    \n",
    "lower_case  = plain_text.lower()\n",
    "\n",
    "cleaned_text = lower_case.translate(str.maketrans('','',string.punctuation))"
   ]
  },
  {
   "cell_type": "code",
   "execution_count": 58,
   "metadata": {},
   "outputs": [],
   "source": [
    "tokenized_words = word_tokenize(cleaned_text, \"english\")"
   ]
  },
  {
   "cell_type": "code",
   "execution_count": 59,
   "metadata": {},
   "outputs": [],
   "source": [
    "final_words = []\n",
    "\n",
    "for word in tokenized_words:\n",
    "    if word not in stopwords.words('english'):\n",
    "        final_words.append(word)"
   ]
  },
  {
   "cell_type": "code",
   "execution_count": 60,
   "metadata": {},
   "outputs": [],
   "source": [
    "lemma_words = []\n",
    "\n",
    "for word in final_words:\n",
    "    word = WordNetLemmatizer().lemmatize(word)\n",
    "    lemma_words.append(word)"
   ]
  },
  {
   "cell_type": "code",
   "execution_count": 62,
   "metadata": {},
   "outputs": [
    {
     "name": "stdout",
     "output_type": "stream",
     "text": [
      "Count of each emotion \n",
      " Counter({' attracted': 12, ' sad': 12, ' fearful': 11, ' happy': 10, ' powerless': 7, ' fearless': 5, ' alone': 5, ' angry': 4, ' adequate': 4, ' attached': 4, ' cheated': 3, ' esteemed': 3, ' average': 3, ' hated': 3, ' loved': 3, ' free': 3, ' lustful': 2, ' bored': 2, ' apathetic': 2, ' entitled': 2, ' focused': 2, ' anxious': 2, ' independent': 2, ' safe': 1, ' ecstatic': 1, ' singled out': 1, ' lost': 1, ' codependent': 1, ' obsessed': 1, ' surprise': 1, ' embarrassed': 1})\n"
     ]
    }
   ],
   "source": [
    "emotion_list = []\n",
    "\n",
    "with open(r\"E:\\Flip robo Internship\\sentiment_analysis_all_files\\emotions.txt\", 'r') as file:\n",
    "    for line in file:\n",
    "        clear_line = line.replace(\"\\n\", '').replace(\",\", '').replace(\"'\", '').strip()\n",
    "        word, emotion = clear_line.split(':')\n",
    "\n",
    "        if word in lemma_words:\n",
    "            emotion_list.append(emotion)\n",
    "            \n",
    "\n",
    "\n",
    "af = Counter(emotion_list)\n",
    "print(\"Count of each emotion \\n\", af)"
   ]
  },
  {
   "cell_type": "code",
   "execution_count": 63,
   "metadata": {},
   "outputs": [
    {
     "data": {
      "image/png": "[encoded data removed]",
      "text/plain": [
       "<Figure size 432x288 with 1 Axes>"
      ]
     },
     "metadata": {
      "needs_background": "light"
     },
     "output_type": "display_data"
    }
   ],
   "source": [
    "fig, ax1 = plt.subplots()\n",
    "ax1.set_title('Sentiments on COVID Before Outbreak')\n",
    "ax1.bar(w.keys(), w.values())\n",
    "fig.autofmt_xdate(rotation=90)\n",
    "plt.savefig('graph.png')\n",
    "plt.show()"
   ]
  },
  {
   "cell_type": "code",
   "execution_count": 65,
   "metadata": {},
   "outputs": [
    {
     "data": {
      "image/png": "[encoded data removed]",
      "text/plain": [
       "<Figure size 432x288 with 1 Axes>"
      ]
     },
     "metadata": {
      "needs_background": "light"
     },
     "output_type": "display_data"
    }
   ],
   "source": [
    "fig, ax1 = plt.subplots()\n",
    "ax1.set_title('Sentiments on COVID After Outbreak')\n",
    "ax1.bar(af.keys(),af.values())\n",
    "fig.autofmt_xdate(rotation=90)\n",
    "plt.savefig('graph.png')\n",
    "plt.show()"
   ]
  },
  {
   "cell_type": "markdown",
   "metadata": {},
   "source": [
    "It shows people sentiments after corona virus outbreak, max. are related with sadness, powerless, fearful\n",
    "\n",
    "Observation shows how sentiments have turned  from happy and attracted to sad and fearful."
   ]
  },
  {
   "cell_type": "code",
   "execution_count": null,
   "metadata": {},
   "outputs": [],
   "source": []
  }
 ],
 "metadata": {
  "kernelspec": {
   "display_name": "Python 3",
   "language": "python",
   "name": "python3"
  },
  "language_info": {
   "codemirror_mode": {
    "name": "ipython",
    "version": 3
   },
   "file_extension": ".py",
   "mimetype": "text/x-python",
   "name": "python",
   "nbconvert_exporter": "python",
   "pygments_lexer": "ipython3",
   "version": "3.7.7"
  }
 },
 "nbformat": 4,
 "nbformat_minor": 4
}
