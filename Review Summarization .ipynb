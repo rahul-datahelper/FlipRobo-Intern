{
 "cells": [
  {
   "cell_type": "code",
   "execution_count": 1,
   "metadata": {},
   "outputs": [
    {
     "name": "stderr",
     "output_type": "stream",
     "text": [
      "C:\\Users\\RAJSHREE\\Anaconda3\\envs\\tensorflow\\lib\\site-packages\\numpy\\_distributor_init.py:32: UserWarning: loaded more than 1 DLL from .libs:\n",
      "C:\\Users\\RAJSHREE\\Anaconda3\\envs\\tensorflow\\lib\\site-packages\\numpy\\.libs\\libopenblas.noijjg62emaszi6nyurl6jbkm4evbgm7.gfortran-win_amd64.dll\n",
      "C:\\Users\\RAJSHREE\\Anaconda3\\envs\\tensorflow\\lib\\site-packages\\numpy\\.libs\\libopenblas.PYQHXLVVQ7VESDPUVUADXEVJOBGHJPAY.gfortran-win_amd64.dll\n",
      "  stacklevel=1)\n"
     ]
    }
   ],
   "source": [
    "import pandas as pd\n",
    "df = pd.read_json(r\"E:\\Flip robo Internship\\CLIENT 1\\Cell_Phones_and_Accessories.json\")"
   ]
  },
  {
   "cell_type": "code",
   "execution_count": 2,
   "metadata": {},
   "outputs": [],
   "source": [
    "import numpy as np\n",
    "import seaborn as sns\n",
    "import matplotlib.pyplot as plt\n",
    "import functools\n",
    "import re\n",
    "import nltk\n",
    "from nltk.corpus import stopwords\n",
    "import string\n",
    "from nltk.tokenize import word_tokenize\n",
    "import gensim\n",
    "from sklearn.feature_extraction.text import TfidfVectorizer\n",
    "from nltk.stem import WordNetLemmatizer \n",
    "\n",
    "import warnings\n",
    "warnings.filterwarnings('ignore')"
   ]
  },
  {
   "cell_type": "code",
   "execution_count": 3,
   "metadata": {},
   "outputs": [
    {
     "name": "stdout",
     "output_type": "stream",
     "text": [
      "Requirement already satisfied: gensim in c:\\users\\rajshree\\anaconda3\\envs\\tensorflow\\lib\\site-packages (3.8.3)\n",
      "Requirement already satisfied: numpy>=1.11.3 in c:\\users\\rajshree\\anaconda3\\envs\\tensorflow\\lib\\site-packages (from gensim) (1.19.2)\n",
      "Requirement already satisfied: Cython==0.29.14 in c:\\users\\rajshree\\anaconda3\\envs\\tensorflow\\lib\\site-packages (from gensim) (0.29.14)\n",
      "Requirement already satisfied: scipy>=0.18.1 in c:\\users\\rajshree\\anaconda3\\envs\\tensorflow\\lib\\site-packages (from gensim) (1.5.2)\n",
      "Requirement already satisfied: six>=1.5.0 in c:\\users\\rajshree\\anaconda3\\envs\\tensorflow\\lib\\site-packages (from gensim) (1.15.0)\n",
      "Requirement already satisfied: smart-open>=1.8.1 in c:\\users\\rajshree\\anaconda3\\envs\\tensorflow\\lib\\site-packages (from gensim) (2.1.0)\n",
      "Requirement already satisfied: requests in c:\\users\\rajshree\\anaconda3\\envs\\tensorflow\\lib\\site-packages (from smart-open>=1.8.1->gensim) (2.24.0)\n",
      "Requirement already satisfied: boto3 in c:\\users\\rajshree\\anaconda3\\envs\\tensorflow\\lib\\site-packages (from smart-open>=1.8.1->gensim) (1.14.48)\n",
      "Requirement already satisfied: boto in c:\\users\\rajshree\\anaconda3\\envs\\tensorflow\\lib\\site-packages (from smart-open>=1.8.1->gensim) (2.49.0)\n",
      "Requirement already satisfied: chardet<4,>=3.0.2 in c:\\users\\rajshree\\anaconda3\\envs\\tensorflow\\lib\\site-packages (from requests->smart-open>=1.8.1->gensim) (3.0.4)\n",
      "Requirement already satisfied: idna<3,>=2.5 in c:\\users\\rajshree\\anaconda3\\envs\\tensorflow\\lib\\site-packages (from requests->smart-open>=1.8.1->gensim) (2.10)\n",
      "Requirement already satisfied: certifi>=2017.4.17 in c:\\users\\rajshree\\anaconda3\\envs\\tensorflow\\lib\\site-packages (from requests->smart-open>=1.8.1->gensim) (2020.6.20)\n",
      "Requirement already satisfied: urllib3!=1.25.0,!=1.25.1,<1.26,>=1.21.1 in c:\\users\\rajshree\\anaconda3\\envs\\tensorflow\\lib\\site-packages (from requests->smart-open>=1.8.1->gensim) (1.25.10)\n",
      "Requirement already satisfied: jmespath<1.0.0,>=0.7.1 in c:\\users\\rajshree\\anaconda3\\envs\\tensorflow\\lib\\site-packages (from boto3->smart-open>=1.8.1->gensim) (0.10.0)\n",
      "Requirement already satisfied: s3transfer<0.4.0,>=0.3.0 in c:\\users\\rajshree\\anaconda3\\envs\\tensorflow\\lib\\site-packages (from boto3->smart-open>=1.8.1->gensim) (0.3.3)\n",
      "Requirement already satisfied: botocore<1.18.0,>=1.17.48 in c:\\users\\rajshree\\anaconda3\\envs\\tensorflow\\lib\\site-packages (from boto3->smart-open>=1.8.1->gensim) (1.17.48)\n",
      "Requirement already satisfied: python-dateutil<3.0.0,>=2.1 in c:\\users\\rajshree\\anaconda3\\envs\\tensorflow\\lib\\site-packages (from botocore<1.18.0,>=1.17.48->boto3->smart-open>=1.8.1->gensim) (2.8.1)\n",
      "Requirement already satisfied: docutils<0.16,>=0.10 in c:\\users\\rajshree\\anaconda3\\envs\\tensorflow\\lib\\site-packages (from botocore<1.18.0,>=1.17.48->boto3->smart-open>=1.8.1->gensim) (0.15.2)\n"
     ]
    }
   ],
   "source": [
    "!pip install gensim"
   ]
  },
  {
   "cell_type": "code",
   "execution_count": 4,
   "metadata": {},
   "outputs": [
    {
     "data": {
      "text/html": [
       "<div>\n",
       "<style scoped>\n",
       "    .dataframe tbody tr th:only-of-type {\n",
       "        vertical-align: middle;\n",
       "    }\n",
       "\n",
       "    .dataframe tbody tr th {\n",
       "        vertical-align: top;\n",
       "    }\n",
       "\n",
       "    .dataframe thead th {\n",
       "        text-align: right;\n",
       "    }\n",
       "</style>\n",
       "<table border=\"1\" class=\"dataframe\">\n",
       "  <thead>\n",
       "    <tr style=\"text-align: right;\">\n",
       "      <th></th>\n",
       "      <th>Rating</th>\n",
       "      <th>Rev_verify</th>\n",
       "      <th>Review_Date</th>\n",
       "      <th>IC</th>\n",
       "      <th>Prod_meta</th>\n",
       "      <th>Reviewer_Name</th>\n",
       "      <th>Review</th>\n",
       "      <th>Rev_summ</th>\n",
       "      <th>Review_timestamp</th>\n",
       "      <th>Useful</th>\n",
       "      <th>Prod_img</th>\n",
       "    </tr>\n",
       "  </thead>\n",
       "  <tbody>\n",
       "    <tr>\n",
       "      <th>0</th>\n",
       "      <td>5</td>\n",
       "      <td>True</td>\n",
       "      <td>09 1, 2015</td>\n",
       "      <td>B009XD5TPQ</td>\n",
       "      <td>None</td>\n",
       "      <td>Sunny  Zoeller</td>\n",
       "      <td>Bought it for my husband. He's very happy with it</td>\n",
       "      <td>He's very happy with</td>\n",
       "      <td>1441065600</td>\n",
       "      <td>None</td>\n",
       "      <td>None</td>\n",
       "    </tr>\n",
       "    <tr>\n",
       "      <th>1</th>\n",
       "      <td>5</td>\n",
       "      <td>True</td>\n",
       "      <td>01 9, 2016</td>\n",
       "      <td>B016MF3P3K</td>\n",
       "      <td>None</td>\n",
       "      <td>Denise Lesley</td>\n",
       "      <td>Great screen protector.  Doesn't even seem as ...</td>\n",
       "      <td>Five Stars</td>\n",
       "      <td>1452297600</td>\n",
       "      <td>None</td>\n",
       "      <td>None</td>\n",
       "    </tr>\n",
       "    <tr>\n",
       "      <th>2</th>\n",
       "      <td>5</td>\n",
       "      <td>True</td>\n",
       "      <td>04 21, 2013</td>\n",
       "      <td>B008DC8N5G</td>\n",
       "      <td>None</td>\n",
       "      <td>Emir</td>\n",
       "      <td>Saved me lots of money! it's not gorilla glass...</td>\n",
       "      <td>As long as you know how to put it on!</td>\n",
       "      <td>1366502400</td>\n",
       "      <td>None</td>\n",
       "      <td>None</td>\n",
       "    </tr>\n",
       "    <tr>\n",
       "      <th>3</th>\n",
       "      <td>3</td>\n",
       "      <td>True</td>\n",
       "      <td>02 27, 2013</td>\n",
       "      <td>B0089CH3TM</td>\n",
       "      <td>{'Color:': ' Green'}</td>\n",
       "      <td>Alyse</td>\n",
       "      <td>The material and fit is very nice, but the col...</td>\n",
       "      <td>Good case overall</td>\n",
       "      <td>1361923200</td>\n",
       "      <td>3</td>\n",
       "      <td>None</td>\n",
       "    </tr>\n",
       "    <tr>\n",
       "      <th>4</th>\n",
       "      <td>4</td>\n",
       "      <td>True</td>\n",
       "      <td>12 19, 2013</td>\n",
       "      <td>B00AKZWGAC</td>\n",
       "      <td>None</td>\n",
       "      <td>TechGuy</td>\n",
       "      <td>This last me about 3 days till i have to charg...</td>\n",
       "      <td>Awesome Battery</td>\n",
       "      <td>1387411200</td>\n",
       "      <td>None</td>\n",
       "      <td>None</td>\n",
       "    </tr>\n",
       "  </tbody>\n",
       "</table>\n",
       "</div>"
      ],
      "text/plain": [
       "   Rating  Rev_verify  Review_Date          IC             Prod_meta  \\\n",
       "0       5        True   09 1, 2015  B009XD5TPQ                  None   \n",
       "1       5        True   01 9, 2016  B016MF3P3K                  None   \n",
       "2       5        True  04 21, 2013  B008DC8N5G                  None   \n",
       "3       3        True  02 27, 2013  B0089CH3TM  {'Color:': ' Green'}   \n",
       "4       4        True  12 19, 2013  B00AKZWGAC                  None   \n",
       "\n",
       "    Reviewer_Name                                             Review  \\\n",
       "0  Sunny  Zoeller  Bought it for my husband. He's very happy with it   \n",
       "1   Denise Lesley  Great screen protector.  Doesn't even seem as ...   \n",
       "2            Emir  Saved me lots of money! it's not gorilla glass...   \n",
       "3           Alyse  The material and fit is very nice, but the col...   \n",
       "4         TechGuy  This last me about 3 days till i have to charg...   \n",
       "\n",
       "                                Rev_summ  Review_timestamp Useful Prod_img  \n",
       "0                   He's very happy with        1441065600   None     None  \n",
       "1                             Five Stars        1452297600   None     None  \n",
       "2  As long as you know how to put it on!        1366502400   None     None  \n",
       "3                      Good case overall        1361923200      3     None  \n",
       "4                        Awesome Battery        1387411200   None     None  "
      ]
     },
     "execution_count": 4,
     "metadata": {},
     "output_type": "execute_result"
    }
   ],
   "source": [
    "df.head()"
   ]
  },
  {
   "cell_type": "code",
   "execution_count": 5,
   "metadata": {},
   "outputs": [
    {
     "data": {
      "text/plain": [
       "Rating                   0\n",
       "Rev_verify               0\n",
       "Review_Date              0\n",
       "IC                       0\n",
       "Prod_meta           352624\n",
       "Reviewer_Name           91\n",
       "Review                 530\n",
       "Rev_summ               355\n",
       "Review_timestamp         0\n",
       "Useful              698250\n",
       "Prod_img            742256\n",
       "dtype: int64"
      ]
     },
     "execution_count": 5,
     "metadata": {},
     "output_type": "execute_result"
    }
   ],
   "source": [
    "df.isnull().sum()"
   ]
  },
  {
   "cell_type": "code",
   "execution_count": 6,
   "metadata": {},
   "outputs": [],
   "source": [
    "df.dropna(subset=['Review','Rev_summ'], inplace=True)"
   ]
  },
  {
   "cell_type": "code",
   "execution_count": 7,
   "metadata": {},
   "outputs": [
    {
     "data": {
      "text/plain": [
       "Rating                   0\n",
       "Rev_verify               0\n",
       "Review_Date              0\n",
       "IC                       0\n",
       "Prod_meta           352259\n",
       "Reviewer_Name           89\n",
       "Review                   0\n",
       "Rev_summ                 0\n",
       "Review_timestamp         0\n",
       "Useful              697443\n",
       "Prod_img            741480\n",
       "dtype: int64"
      ]
     },
     "execution_count": 7,
     "metadata": {},
     "output_type": "execute_result"
    }
   ],
   "source": [
    "df.isnull().sum()"
   ]
  },
  {
   "cell_type": "markdown",
   "metadata": {},
   "source": [
    "we have dropped na values from Review and Rev_summ, no na values are present in that columna\n",
    "\n",
    "droping the column which are having high null values along with the unnecessary columns"
   ]
  },
  {
   "cell_type": "code",
   "execution_count": 8,
   "metadata": {},
   "outputs": [
    {
     "data": {
      "image/png": "[encoded data removed]",
      "text/plain": [
       "<Figure size 432x288 with 1 Axes>"
      ]
     },
     "metadata": {
      "needs_background": "light"
     },
     "output_type": "display_data"
    },
    {
     "name": "stdout",
     "output_type": "stream",
     "text": [
      "checking the count of the Verified and Unverified reviews\n",
      "True     664660\n",
      "False     94942\n",
      "Name: Rev_verify, dtype: int64\n",
      "checking the % of the Verified and Unverified reviews\n"
     ]
    },
    {
     "data": {
      "text/plain": [
       "True     87.501086\n",
       "False    12.498914\n",
       "Name: Rev_verify, dtype: float64"
      ]
     },
     "execution_count": 8,
     "metadata": {},
     "output_type": "execute_result"
    }
   ],
   "source": [
    "sns.countplot('Rev_verify',data=df)\n",
    "plt.show()\n",
    "\n",
    "print('checking the count of the Verified and Unverified reviews')\n",
    "print(df.Rev_verify.value_counts())\n",
    "\n",
    "print('checking the % of the Verified and Unverified reviews')\n",
    "(df.Rev_verify.value_counts()/len(df.Rev_verify))*100"
   ]
  },
  {
   "cell_type": "code",
   "execution_count": 9,
   "metadata": {},
   "outputs": [],
   "source": [
    "#average rating\n",
    "average_ratings = round(df.groupby(['IC'])['Rating'].mean().reset_index(),2)"
   ]
  },
  {
   "cell_type": "code",
   "execution_count": 10,
   "metadata": {},
   "outputs": [
    {
     "data": {
      "text/plain": [
       "(48133, 2)"
      ]
     },
     "execution_count": 10,
     "metadata": {},
     "output_type": "execute_result"
    }
   ],
   "source": [
    "average_ratings.head()\n",
    "average_ratings.shape"
   ]
  },
  {
   "cell_type": "code",
   "execution_count": 11,
   "metadata": {},
   "outputs": [],
   "source": [
    "minimum_ratings = df.groupby(['IC'])['Rating'].min().reset_index()"
   ]
  },
  {
   "cell_type": "code",
   "execution_count": 12,
   "metadata": {},
   "outputs": [
    {
     "data": {
      "text/plain": [
       "(48133, 2)"
      ]
     },
     "execution_count": 12,
     "metadata": {},
     "output_type": "execute_result"
    }
   ],
   "source": [
    "minimum_ratings.head()\n",
    "minimum_ratings.shape"
   ]
  },
  {
   "cell_type": "code",
   "execution_count": 13,
   "metadata": {},
   "outputs": [],
   "source": [
    "maximum_ratings = df.groupby(['IC'])['Rating'].max().reset_index()"
   ]
  },
  {
   "cell_type": "code",
   "execution_count": 14,
   "metadata": {},
   "outputs": [
    {
     "data": {
      "text/plain": [
       "(48133, 2)"
      ]
     },
     "execution_count": 14,
     "metadata": {},
     "output_type": "execute_result"
    }
   ],
   "source": [
    "maximum_ratings.head()\n",
    "maximum_ratings.shape"
   ]
  },
  {
   "cell_type": "code",
   "execution_count": 15,
   "metadata": {},
   "outputs": [],
   "source": [
    "total_ratings = df.groupby(['IC'])['Rating'].count().reset_index()"
   ]
  },
  {
   "cell_type": "code",
   "execution_count": 16,
   "metadata": {},
   "outputs": [
    {
     "data": {
      "text/plain": [
       "(48133, 2)"
      ]
     },
     "execution_count": 16,
     "metadata": {},
     "output_type": "execute_result"
    }
   ],
   "source": [
    "total_ratings.head()\n",
    "total_ratings.shape"
   ]
  },
  {
   "cell_type": "code",
   "execution_count": 17,
   "metadata": {},
   "outputs": [],
   "source": [
    "#Getting the unique IC value\n",
    "unique_ic = df['IC'].unique()\n",
    "\n",
    "#Creating a data frame from ic values\n",
    "df_ic = pd.DataFrame(data=unique_ic,columns=['IC'])"
   ]
  },
  {
   "cell_type": "code",
   "execution_count": 18,
   "metadata": {},
   "outputs": [],
   "source": [
    "one_star_rating = round(df[df['Rating']==1].groupby(['IC'])['Rating'].count().reset_index())\n",
    "two_star_rating = round(df[df['Rating']==2].groupby(['IC'])['Rating'].count().reset_index())\n",
    "three_star_rating = round(df[df['Rating']==3].groupby(['IC'])['Rating'].count().reset_index())\n",
    "four_star_rating = round(df[df['Rating']==4].groupby(['IC'])['Rating'].count().reset_index())\n",
    "five_star_rating = round(df[df['Rating']==5].groupby(['IC'])['Rating'].count().reset_index())"
   ]
  },
  {
   "cell_type": "code",
   "execution_count": 19,
   "metadata": {},
   "outputs": [],
   "source": [
    "df_indi_rating_count = df_ic.merge(one_star_rating,on='IC',how='left').merge(two_star_rating,how='left',on='IC').merge(three_star_rating,how='left',on='IC').merge(four_star_rating,how='left',on='IC').merge(five_star_rating,how='left',on='IC')"
   ]
  },
  {
   "cell_type": "code",
   "execution_count": 20,
   "metadata": {},
   "outputs": [],
   "source": [
    "df_indi_rating_count.columns = ['IC','1 star ratings','2 star ratings','3 star ratings','4 star ratings','5 star ratings']"
   ]
  },
  {
   "cell_type": "code",
   "execution_count": 21,
   "metadata": {},
   "outputs": [
    {
     "data": {
      "text/plain": [
       "IC                0\n",
       "1 star ratings    0\n",
       "2 star ratings    0\n",
       "3 star ratings    0\n",
       "4 star ratings    0\n",
       "5 star ratings    0\n",
       "dtype: int64"
      ]
     },
     "execution_count": 21,
     "metadata": {},
     "output_type": "execute_result"
    }
   ],
   "source": [
    "df_indi_rating_count = df_indi_rating_count.fillna(0)\n",
    "df_indi_rating_count.isnull().sum()"
   ]
  },
  {
   "cell_type": "code",
   "execution_count": 22,
   "metadata": {},
   "outputs": [],
   "source": [
    "for col in df_indi_rating_count.select_dtypes(include=['float']).columns:\n",
    "    df_indi_rating_count[col] = df_indi_rating_count[col].astype(int)"
   ]
  },
  {
   "cell_type": "code",
   "execution_count": 23,
   "metadata": {},
   "outputs": [
    {
     "data": {
      "text/html": [
       "<div>\n",
       "<style scoped>\n",
       "    .dataframe tbody tr th:only-of-type {\n",
       "        vertical-align: middle;\n",
       "    }\n",
       "\n",
       "    .dataframe tbody tr th {\n",
       "        vertical-align: top;\n",
       "    }\n",
       "\n",
       "    .dataframe thead th {\n",
       "        text-align: right;\n",
       "    }\n",
       "</style>\n",
       "<table border=\"1\" class=\"dataframe\">\n",
       "  <thead>\n",
       "    <tr style=\"text-align: right;\">\n",
       "      <th></th>\n",
       "      <th>IC</th>\n",
       "      <th>1 star ratings</th>\n",
       "      <th>2 star ratings</th>\n",
       "      <th>3 star ratings</th>\n",
       "      <th>4 star ratings</th>\n",
       "      <th>5 star ratings</th>\n",
       "    </tr>\n",
       "  </thead>\n",
       "  <tbody>\n",
       "    <tr>\n",
       "      <th>7642</th>\n",
       "      <td>B00HFW4EI0</td>\n",
       "      <td>3</td>\n",
       "      <td>2</td>\n",
       "      <td>1</td>\n",
       "      <td>6</td>\n",
       "      <td>18</td>\n",
       "    </tr>\n",
       "    <tr>\n",
       "      <th>20397</th>\n",
       "      <td>B00LUACUR0</td>\n",
       "      <td>0</td>\n",
       "      <td>0</td>\n",
       "      <td>0</td>\n",
       "      <td>2</td>\n",
       "      <td>4</td>\n",
       "    </tr>\n",
       "    <tr>\n",
       "      <th>32236</th>\n",
       "      <td>B003NQ7RZY</td>\n",
       "      <td>0</td>\n",
       "      <td>0</td>\n",
       "      <td>0</td>\n",
       "      <td>1</td>\n",
       "      <td>3</td>\n",
       "    </tr>\n",
       "    <tr>\n",
       "      <th>6532</th>\n",
       "      <td>B00L7WGW7K</td>\n",
       "      <td>5</td>\n",
       "      <td>5</td>\n",
       "      <td>10</td>\n",
       "      <td>20</td>\n",
       "      <td>63</td>\n",
       "    </tr>\n",
       "    <tr>\n",
       "      <th>22702</th>\n",
       "      <td>B0161RM2WY</td>\n",
       "      <td>0</td>\n",
       "      <td>0</td>\n",
       "      <td>2</td>\n",
       "      <td>0</td>\n",
       "      <td>1</td>\n",
       "    </tr>\n",
       "    <tr>\n",
       "      <th>38124</th>\n",
       "      <td>B00GNH88FI</td>\n",
       "      <td>0</td>\n",
       "      <td>0</td>\n",
       "      <td>0</td>\n",
       "      <td>0</td>\n",
       "      <td>2</td>\n",
       "    </tr>\n",
       "    <tr>\n",
       "      <th>47352</th>\n",
       "      <td>B0183GJJY0</td>\n",
       "      <td>0</td>\n",
       "      <td>0</td>\n",
       "      <td>1</td>\n",
       "      <td>0</td>\n",
       "      <td>2</td>\n",
       "    </tr>\n",
       "    <tr>\n",
       "      <th>12731</th>\n",
       "      <td>B00TRB2CHW</td>\n",
       "      <td>0</td>\n",
       "      <td>0</td>\n",
       "      <td>2</td>\n",
       "      <td>2</td>\n",
       "      <td>5</td>\n",
       "    </tr>\n",
       "    <tr>\n",
       "      <th>4500</th>\n",
       "      <td>B00FH9B59O</td>\n",
       "      <td>0</td>\n",
       "      <td>0</td>\n",
       "      <td>0</td>\n",
       "      <td>1</td>\n",
       "      <td>4</td>\n",
       "    </tr>\n",
       "    <tr>\n",
       "      <th>37722</th>\n",
       "      <td>B00N2B7IM2</td>\n",
       "      <td>0</td>\n",
       "      <td>0</td>\n",
       "      <td>0</td>\n",
       "      <td>1</td>\n",
       "      <td>5</td>\n",
       "    </tr>\n",
       "  </tbody>\n",
       "</table>\n",
       "</div>"
      ],
      "text/plain": [
       "               IC  1 star ratings  2 star ratings  3 star ratings  \\\n",
       "7642   B00HFW4EI0               3               2               1   \n",
       "20397  B00LUACUR0               0               0               0   \n",
       "32236  B003NQ7RZY               0               0               0   \n",
       "6532   B00L7WGW7K               5               5              10   \n",
       "22702  B0161RM2WY               0               0               2   \n",
       "38124  B00GNH88FI               0               0               0   \n",
       "47352  B0183GJJY0               0               0               1   \n",
       "12731  B00TRB2CHW               0               0               2   \n",
       "4500   B00FH9B59O               0               0               0   \n",
       "37722  B00N2B7IM2               0               0               0   \n",
       "\n",
       "       4 star ratings  5 star ratings  \n",
       "7642                6              18  \n",
       "20397               2               4  \n",
       "32236               1               3  \n",
       "6532               20              63  \n",
       "22702               0               1  \n",
       "38124               0               2  \n",
       "47352               0               2  \n",
       "12731               2               5  \n",
       "4500                1               4  \n",
       "37722               1               5  "
      ]
     },
     "execution_count": 23,
     "metadata": {},
     "output_type": "execute_result"
    }
   ],
   "source": [
    "df_indi_rating_count.sample(10)"
   ]
  },
  {
   "cell_type": "code",
   "execution_count": 24,
   "metadata": {},
   "outputs": [],
   "source": [
    "df_rating_set = [total_ratings, average_ratings, maximum_ratings, minimum_ratings,df_indi_rating_count]"
   ]
  },
  {
   "cell_type": "code",
   "execution_count": 25,
   "metadata": {},
   "outputs": [],
   "source": [
    "df_rating_data = functools.reduce(lambda left,right: pd.merge(left,right,on='IC'), df_rating_set)"
   ]
  },
  {
   "cell_type": "code",
   "execution_count": 26,
   "metadata": {},
   "outputs": [],
   "source": [
    "df_rating_data.columns=['IC','Total rating','Average rating','Maximum rating','Minimum rating','1 star ratings','2 star ratings','3 star ratings','4 star ratings','5 star ratings']"
   ]
  },
  {
   "cell_type": "code",
   "execution_count": 27,
   "metadata": {},
   "outputs": [
    {
     "data": {
      "text/plain": [
       "(48133, 10)"
      ]
     },
     "execution_count": 27,
     "metadata": {},
     "output_type": "execute_result"
    }
   ],
   "source": [
    "df_rating_data.shape"
   ]
  },
  {
   "cell_type": "code",
   "execution_count": 28,
   "metadata": {},
   "outputs": [
    {
     "data": {
      "text/html": [
       "<div>\n",
       "<style scoped>\n",
       "    .dataframe tbody tr th:only-of-type {\n",
       "        vertical-align: middle;\n",
       "    }\n",
       "\n",
       "    .dataframe tbody tr th {\n",
       "        vertical-align: top;\n",
       "    }\n",
       "\n",
       "    .dataframe thead th {\n",
       "        text-align: right;\n",
       "    }\n",
       "</style>\n",
       "<table border=\"1\" class=\"dataframe\">\n",
       "  <thead>\n",
       "    <tr style=\"text-align: right;\">\n",
       "      <th></th>\n",
       "      <th>IC</th>\n",
       "      <th>Total rating</th>\n",
       "      <th>Average rating</th>\n",
       "      <th>Maximum rating</th>\n",
       "      <th>Minimum rating</th>\n",
       "      <th>1 star ratings</th>\n",
       "      <th>2 star ratings</th>\n",
       "      <th>3 star ratings</th>\n",
       "      <th>4 star ratings</th>\n",
       "      <th>5 star ratings</th>\n",
       "    </tr>\n",
       "  </thead>\n",
       "  <tbody>\n",
       "    <tr>\n",
       "      <th>0</th>\n",
       "      <td>7508492919</td>\n",
       "      <td>40</td>\n",
       "      <td>4.30</td>\n",
       "      <td>5</td>\n",
       "      <td>1</td>\n",
       "      <td>1</td>\n",
       "      <td>1</td>\n",
       "      <td>4</td>\n",
       "      <td>13</td>\n",
       "      <td>21</td>\n",
       "    </tr>\n",
       "    <tr>\n",
       "      <th>1</th>\n",
       "      <td>7532385086</td>\n",
       "      <td>7</td>\n",
       "      <td>3.29</td>\n",
       "      <td>5</td>\n",
       "      <td>1</td>\n",
       "      <td>2</td>\n",
       "      <td>0</td>\n",
       "      <td>1</td>\n",
       "      <td>2</td>\n",
       "      <td>2</td>\n",
       "    </tr>\n",
       "    <tr>\n",
       "      <th>2</th>\n",
       "      <td>7887421268</td>\n",
       "      <td>13</td>\n",
       "      <td>3.54</td>\n",
       "      <td>5</td>\n",
       "      <td>1</td>\n",
       "      <td>3</td>\n",
       "      <td>1</td>\n",
       "      <td>1</td>\n",
       "      <td>2</td>\n",
       "      <td>6</td>\n",
       "    </tr>\n",
       "    <tr>\n",
       "      <th>3</th>\n",
       "      <td>8199900164</td>\n",
       "      <td>4</td>\n",
       "      <td>3.75</td>\n",
       "      <td>5</td>\n",
       "      <td>2</td>\n",
       "      <td>0</td>\n",
       "      <td>1</td>\n",
       "      <td>1</td>\n",
       "      <td>0</td>\n",
       "      <td>2</td>\n",
       "    </tr>\n",
       "    <tr>\n",
       "      <th>4</th>\n",
       "      <td>8288853439</td>\n",
       "      <td>11</td>\n",
       "      <td>3.82</td>\n",
       "      <td>5</td>\n",
       "      <td>1</td>\n",
       "      <td>2</td>\n",
       "      <td>1</td>\n",
       "      <td>0</td>\n",
       "      <td>2</td>\n",
       "      <td>6</td>\n",
       "    </tr>\n",
       "    <tr>\n",
       "      <th>...</th>\n",
       "      <td>...</td>\n",
       "      <td>...</td>\n",
       "      <td>...</td>\n",
       "      <td>...</td>\n",
       "      <td>...</td>\n",
       "      <td>...</td>\n",
       "      <td>...</td>\n",
       "      <td>...</td>\n",
       "      <td>...</td>\n",
       "      <td>...</td>\n",
       "    </tr>\n",
       "    <tr>\n",
       "      <th>48128</th>\n",
       "      <td>B01HJBS5C2</td>\n",
       "      <td>12</td>\n",
       "      <td>3.25</td>\n",
       "      <td>5</td>\n",
       "      <td>1</td>\n",
       "      <td>2</td>\n",
       "      <td>3</td>\n",
       "      <td>1</td>\n",
       "      <td>2</td>\n",
       "      <td>4</td>\n",
       "    </tr>\n",
       "    <tr>\n",
       "      <th>48129</th>\n",
       "      <td>B01HJC7N4C</td>\n",
       "      <td>5</td>\n",
       "      <td>4.60</td>\n",
       "      <td>5</td>\n",
       "      <td>3</td>\n",
       "      <td>0</td>\n",
       "      <td>0</td>\n",
       "      <td>1</td>\n",
       "      <td>0</td>\n",
       "      <td>4</td>\n",
       "    </tr>\n",
       "    <tr>\n",
       "      <th>48130</th>\n",
       "      <td>B01HJCN1UC</td>\n",
       "      <td>22</td>\n",
       "      <td>4.73</td>\n",
       "      <td>5</td>\n",
       "      <td>4</td>\n",
       "      <td>0</td>\n",
       "      <td>0</td>\n",
       "      <td>0</td>\n",
       "      <td>6</td>\n",
       "      <td>16</td>\n",
       "    </tr>\n",
       "    <tr>\n",
       "      <th>48131</th>\n",
       "      <td>B01HJCN55I</td>\n",
       "      <td>11</td>\n",
       "      <td>4.45</td>\n",
       "      <td>5</td>\n",
       "      <td>2</td>\n",
       "      <td>0</td>\n",
       "      <td>2</td>\n",
       "      <td>0</td>\n",
       "      <td>0</td>\n",
       "      <td>9</td>\n",
       "    </tr>\n",
       "    <tr>\n",
       "      <th>48132</th>\n",
       "      <td>B01HJH9IN6</td>\n",
       "      <td>6</td>\n",
       "      <td>2.83</td>\n",
       "      <td>5</td>\n",
       "      <td>1</td>\n",
       "      <td>2</td>\n",
       "      <td>1</td>\n",
       "      <td>1</td>\n",
       "      <td>0</td>\n",
       "      <td>2</td>\n",
       "    </tr>\n",
       "  </tbody>\n",
       "</table>\n",
       "<p>48133 rows × 10 columns</p>\n",
       "</div>"
      ],
      "text/plain": [
       "               IC  Total rating  Average rating  Maximum rating  \\\n",
       "0      7508492919            40            4.30               5   \n",
       "1      7532385086             7            3.29               5   \n",
       "2      7887421268            13            3.54               5   \n",
       "3      8199900164             4            3.75               5   \n",
       "4      8288853439            11            3.82               5   \n",
       "...           ...           ...             ...             ...   \n",
       "48128  B01HJBS5C2            12            3.25               5   \n",
       "48129  B01HJC7N4C             5            4.60               5   \n",
       "48130  B01HJCN1UC            22            4.73               5   \n",
       "48131  B01HJCN55I            11            4.45               5   \n",
       "48132  B01HJH9IN6             6            2.83               5   \n",
       "\n",
       "       Minimum rating  1 star ratings  2 star ratings  3 star ratings  \\\n",
       "0                   1               1               1               4   \n",
       "1                   1               2               0               1   \n",
       "2                   1               3               1               1   \n",
       "3                   2               0               1               1   \n",
       "4                   1               2               1               0   \n",
       "...               ...             ...             ...             ...   \n",
       "48128               1               2               3               1   \n",
       "48129               3               0               0               1   \n",
       "48130               4               0               0               0   \n",
       "48131               2               0               2               0   \n",
       "48132               1               2               1               1   \n",
       "\n",
       "       4 star ratings  5 star ratings  \n",
       "0                  13              21  \n",
       "1                   2               2  \n",
       "2                   2               6  \n",
       "3                   0               2  \n",
       "4                   2               6  \n",
       "...               ...             ...  \n",
       "48128               2               4  \n",
       "48129               0               4  \n",
       "48130               6              16  \n",
       "48131               0               9  \n",
       "48132               0               2  \n",
       "\n",
       "[48133 rows x 10 columns]"
      ]
     },
     "execution_count": 28,
     "metadata": {},
     "output_type": "execute_result"
    }
   ],
   "source": [
    "df_rating_data"
   ]
  },
  {
   "cell_type": "code",
   "execution_count": 29,
   "metadata": {},
   "outputs": [],
   "source": [
    "df_rating_data.to_csv('df_rating_data.csv',index_label=False)"
   ]
  },
  {
   "cell_type": "code",
   "execution_count": 30,
   "metadata": {},
   "outputs": [],
   "source": [
    "# Rev_verify, Review_date, Prod_meta, Reviewer_Name, Review_timestamp, Useful and Prod_img and Review dropped\n",
    "df_ext = df.loc[:,['IC','Rev_summ']]"
   ]
  },
  {
   "cell_type": "code",
   "execution_count": 31,
   "metadata": {},
   "outputs": [
    {
     "data": {
      "text/plain": [
       "IC          0\n",
       "Rev_summ    0\n",
       "dtype: int64"
      ]
     },
     "execution_count": 31,
     "metadata": {},
     "output_type": "execute_result"
    }
   ],
   "source": [
    "df_ext.isnull().sum()"
   ]
  },
  {
   "cell_type": "code",
   "execution_count": 32,
   "metadata": {},
   "outputs": [],
   "source": [
    "df_ext[\"Rev Length\"]= df_ext[\"Rev_summ\"].str.len()"
   ]
  },
  {
   "cell_type": "code",
   "execution_count": 33,
   "metadata": {},
   "outputs": [],
   "source": [
    "df_ext.sort_values(\"IC\", inplace = True)"
   ]
  },
  {
   "cell_type": "code",
   "execution_count": 34,
   "metadata": {},
   "outputs": [
    {
     "data": {
      "text/plain": [
       "(759602, 3)"
      ]
     },
     "execution_count": 34,
     "metadata": {},
     "output_type": "execute_result"
    }
   ],
   "source": [
    "df_ext.shape"
   ]
  },
  {
   "cell_type": "code",
   "execution_count": 35,
   "metadata": {},
   "outputs": [],
   "source": [
    "df_ext.drop_duplicates(inplace=True)"
   ]
  },
  {
   "cell_type": "code",
   "execution_count": 36,
   "metadata": {},
   "outputs": [
    {
     "data": {
      "text/plain": [
       "(608602, 3)"
      ]
     },
     "execution_count": 36,
     "metadata": {},
     "output_type": "execute_result"
    }
   ],
   "source": [
    "df_ext.shape"
   ]
  },
  {
   "cell_type": "code",
   "execution_count": 37,
   "metadata": {},
   "outputs": [
    {
     "data": {
      "text/plain": [
       "IC             48133\n",
       "Rev_summ      366596\n",
       "Rev Length       153\n",
       "dtype: int64"
      ]
     },
     "execution_count": 37,
     "metadata": {},
     "output_type": "execute_result"
    }
   ],
   "source": [
    "df_ext.nunique()"
   ]
  },
  {
   "cell_type": "code",
   "execution_count": 38,
   "metadata": {},
   "outputs": [
    {
     "data": {
      "image/png": "[encoded data removed]",
      "text/plain": [
       "<Figure size 720x504 with 1 Axes>"
      ]
     },
     "metadata": {
      "needs_background": "light"
     },
     "output_type": "display_data"
    }
   ],
   "source": [
    "#plotting distribution\n",
    "fig, ax = plt.subplots(figsize =(10, 7)) \n",
    "ax.hist(df_ext['Rev Length'], bins = [0, 25, 50, 75, 100]) \n",
    "plt.show()"
   ]
  },
  {
   "cell_type": "code",
   "execution_count": 39,
   "metadata": {},
   "outputs": [],
   "source": [
    "df_merge = df_ext.groupby(['IC'])['Rev_summ'].apply('. '.join).reset_index()"
   ]
  },
  {
   "cell_type": "code",
   "execution_count": 40,
   "metadata": {},
   "outputs": [
    {
     "data": {
      "text/plain": [
       "(48133, 2)"
      ]
     },
     "execution_count": 40,
     "metadata": {},
     "output_type": "execute_result"
    }
   ],
   "source": [
    "df_merge.shape"
   ]
  },
  {
   "cell_type": "code",
   "execution_count": 41,
   "metadata": {},
   "outputs": [
    {
     "data": {
      "image/png": "[encoded data removed]",
      "text/plain": [
       "<Figure size 720x504 with 1 Axes>"
      ]
     },
     "metadata": {
      "needs_background": "light"
     },
     "output_type": "display_data"
    }
   ],
   "source": [
    "#plotting distribution of string \n",
    "df_merge[\"Rev Length\"]= df_merge[\"Rev_summ\"].str.len() \n",
    "fig, ax = plt.subplots(figsize =(10, 7)) \n",
    "ax.hist(df_merge['Rev Length'], bins = [0, 25, 50, 75, 100]) \n",
    "plt.show()"
   ]
  },
  {
   "cell_type": "markdown",
   "metadata": {},
   "source": [
    "# Fetching summary & keywords"
   ]
  },
  {
   "cell_type": "code",
   "execution_count": 42,
   "metadata": {},
   "outputs": [],
   "source": [
    "df_merge.rename(columns={\"IC\":'Product_name',\"Rev_summ\":'prod_des'},inplace=True)"
   ]
  },
  {
   "cell_type": "code",
   "execution_count": 43,
   "metadata": {},
   "outputs": [],
   "source": [
    "data = df_merge"
   ]
  },
  {
   "cell_type": "code",
   "execution_count": 44,
   "metadata": {},
   "outputs": [
    {
     "name": "stderr",
     "output_type": "stream",
     "text": [
      "[nltk_data] Downloading package wordnet to\n",
      "[nltk_data]     C:\\Users\\RAJSHREE\\AppData\\Roaming\\nltk_data...\n",
      "[nltk_data]   Package wordnet is already up-to-date!\n"
     ]
    },
    {
     "data": {
      "text/plain": [
       "True"
      ]
     },
     "execution_count": 44,
     "metadata": {},
     "output_type": "execute_result"
    }
   ],
   "source": [
    "nltk.download('wordnet')"
   ]
  },
  {
   "cell_type": "code",
   "execution_count": 56,
   "metadata": {},
   "outputs": [
    {
     "name": "stdout",
     "output_type": "stream",
     "text": [
      "Collecting en_core_web_sm==2.3.1"
     ]
    },
    {
     "name": "stderr",
     "output_type": "stream",
     "text": [
      "C:\\Users\\RAJSHREE\\Anaconda3\\envs\\tensorflow\\lib\\site-packages\\numpy\\_distributor_init.py:32: UserWarning: loaded more than 1 DLL from .libs:\n",
      "C:\\Users\\RAJSHREE\\Anaconda3\\envs\\tensorflow\\lib\\site-packages\\numpy\\.libs\\libopenblas.noijjg62emaszi6nyurl6jbkm4evbgm7.gfortran-win_amd64.dll\n",
      "C:\\Users\\RAJSHREE\\Anaconda3\\envs\\tensorflow\\lib\\site-packages\\numpy\\.libs\\libopenblas.PYQHXLVVQ7VESDPUVUADXEVJOBGHJPAY.gfortran-win_amd64.dll\n",
      "  stacklevel=1)\n"
     ]
    },
    {
     "name": "stdout",
     "output_type": "stream",
     "text": [
      "\n",
      "  Downloading https://github.com/explosion/spacy-models/releases/download/en_core_web_sm-2.3.1/en_core_web_sm-2.3.1.tar.gz (12.0 MB)\n",
      "Requirement already satisfied: spacy<2.4.0,>=2.3.0 in c:\\users\\rajshree\\anaconda3\\envs\\tensorflow\\lib\\site-packages (from en_core_web_sm==2.3.1) (2.3.2)\n",
      "Requirement already satisfied: murmurhash<1.1.0,>=0.28.0 in c:\\users\\rajshree\\anaconda3\\envs\\tensorflow\\lib\\site-packages (from spacy<2.4.0,>=2.3.0->en_core_web_sm==2.3.1) (1.0.2)\n",
      "Requirement already satisfied: setuptools in c:\\users\\rajshree\\anaconda3\\envs\\tensorflow\\lib\\site-packages (from spacy<2.4.0,>=2.3.0->en_core_web_sm==2.3.1) (50.3.0)\n",
      "Requirement already satisfied: catalogue<1.1.0,>=0.0.7 in c:\\users\\rajshree\\anaconda3\\envs\\tensorflow\\lib\\site-packages (from spacy<2.4.0,>=2.3.0->en_core_web_sm==2.3.1) (1.0.0)\n",
      "Requirement already satisfied: srsly<1.1.0,>=1.0.2 in c:\\users\\rajshree\\anaconda3\\envs\\tensorflow\\lib\\site-packages (from spacy<2.4.0,>=2.3.0->en_core_web_sm==2.3.1) (1.0.2)\n",
      "Requirement already satisfied: numpy>=1.15.0 in c:\\users\\rajshree\\anaconda3\\envs\\tensorflow\\lib\\site-packages (from spacy<2.4.0,>=2.3.0->en_core_web_sm==2.3.1) (1.19.2)\n",
      "Requirement already satisfied: plac<1.2.0,>=0.9.6 in c:\\users\\rajshree\\anaconda3\\envs\\tensorflow\\lib\\site-packages (from spacy<2.4.0,>=2.3.0->en_core_web_sm==2.3.1) (0.9.6)\n",
      "Requirement already satisfied: preshed<3.1.0,>=3.0.2 in c:\\users\\rajshree\\anaconda3\\envs\\tensorflow\\lib\\site-packages (from spacy<2.4.0,>=2.3.0->en_core_web_sm==2.3.1) (3.0.2)\n",
      "Requirement already satisfied: wasabi<1.1.0,>=0.4.0 in c:\\users\\rajshree\\anaconda3\\envs\\tensorflow\\lib\\site-packages (from spacy<2.4.0,>=2.3.0->en_core_web_sm==2.3.1) (0.8.0)\n",
      "Requirement already satisfied: tqdm<5.0.0,>=4.38.0 in c:\\users\\rajshree\\anaconda3\\envs\\tensorflow\\lib\\site-packages (from spacy<2.4.0,>=2.3.0->en_core_web_sm==2.3.1) (4.48.2)\n",
      "Requirement already satisfied: thinc==7.4.1 in c:\\users\\rajshree\\anaconda3\\envs\\tensorflow\\lib\\site-packages (from spacy<2.4.0,>=2.3.0->en_core_web_sm==2.3.1) (7.4.1)\n",
      "Requirement already satisfied: cymem<2.1.0,>=2.0.2 in c:\\users\\rajshree\\anaconda3\\envs\\tensorflow\\lib\\site-packages (from spacy<2.4.0,>=2.3.0->en_core_web_sm==2.3.1) (2.0.3)\n",
      "Requirement already satisfied: requests<3.0.0,>=2.13.0 in c:\\users\\rajshree\\anaconda3\\envs\\tensorflow\\lib\\site-packages (from spacy<2.4.0,>=2.3.0->en_core_web_sm==2.3.1) (2.24.0)\n",
      "Requirement already satisfied: blis<0.5.0,>=0.4.0 in c:\\users\\rajshree\\anaconda3\\envs\\tensorflow\\lib\\site-packages (from spacy<2.4.0,>=2.3.0->en_core_web_sm==2.3.1) (0.4.1)\n",
      "Requirement already satisfied: importlib-metadata>=0.20; python_version < \"3.8\" in c:\\users\\rajshree\\anaconda3\\envs\\tensorflow\\lib\\site-packages (from catalogue<1.1.0,>=0.0.7->spacy<2.4.0,>=2.3.0->en_core_web_sm==2.3.1) (1.7.0)\n",
      "Requirement already satisfied: urllib3!=1.25.0,!=1.25.1,<1.26,>=1.21.1 in c:\\users\\rajshree\\anaconda3\\envs\\tensorflow\\lib\\site-packages (from requests<3.0.0,>=2.13.0->spacy<2.4.0,>=2.3.0->en_core_web_sm==2.3.1) (1.25.10)\n",
      "Requirement already satisfied: chardet<4,>=3.0.2 in c:\\users\\rajshree\\anaconda3\\envs\\tensorflow\\lib\\site-packages (from requests<3.0.0,>=2.13.0->spacy<2.4.0,>=2.3.0->en_core_web_sm==2.3.1) (3.0.4)\n",
      "Requirement already satisfied: certifi>=2017.4.17 in c:\\users\\rajshree\\anaconda3\\envs\\tensorflow\\lib\\site-packages (from requests<3.0.0,>=2.13.0->spacy<2.4.0,>=2.3.0->en_core_web_sm==2.3.1) (2020.6.20)\n",
      "Requirement already satisfied: idna<3,>=2.5 in c:\\users\\rajshree\\anaconda3\\envs\\tensorflow\\lib\\site-packages (from requests<3.0.0,>=2.13.0->spacy<2.4.0,>=2.3.0->en_core_web_sm==2.3.1) (2.10)\n",
      "Requirement already satisfied: zipp>=0.5 in c:\\users\\rajshree\\anaconda3\\envs\\tensorflow\\lib\\site-packages (from importlib-metadata>=0.20; python_version < \"3.8\"->catalogue<1.1.0,>=0.0.7->spacy<2.4.0,>=2.3.0->en_core_web_sm==2.3.1) (3.1.0)\n",
      "Building wheels for collected packages: en-core-web-sm\n",
      "  Building wheel for en-core-web-sm (setup.py): started\n",
      "  Building wheel for en-core-web-sm (setup.py): finished with status 'done'\n",
      "  Created wheel for en-core-web-sm: filename=en_core_web_sm-2.3.1-py3-none-any.whl size=12047113 sha256=dc2c782f98dee9f2b46f47772640743784a22dca80d092750e5ca06cae4a84d2\n",
      "  Stored in directory: C:\\Users\\RAJSHREE\\AppData\\Local\\Temp\\pip-ephem-wheel-cache-r0qx1ym8\\wheels\\b7\\0d\\f0\\7ecae8427c515065d75410989e15e5785dd3975fe06e795cd9\n",
      "Successfully built en-core-web-sm\n",
      "Installing collected packages: en-core-web-sm\n",
      "Successfully installed en-core-web-sm-2.3.1\n",
      "symbolic link created for C:\\Users\\RAJSHREE\\Anaconda3\\envs\\tensorflow\\lib\\site-packages\\spacy\\data\\en <<===>> C:\\Users\\RAJSHREE\\Anaconda3\\envs\\tensorflow\\lib\\site-packages\\en_core_web_sm\n",
      "[+] Download and installation successful\n",
      "You can now load the model via spacy.load('en_core_web_sm')\n",
      "[+] Linking successful\n",
      "C:\\Users\\RAJSHREE\\Anaconda3\\envs\\tensorflow\\lib\\site-packages\\en_core_web_sm -->\n",
      "C:\\Users\\RAJSHREE\\Anaconda3\\envs\\tensorflow\\lib\\site-packages\\spacy\\data\\en\n",
      "You can now load the model via spacy.load('en')\n"
     ]
    }
   ],
   "source": [
    "import spacy\n",
    "!python -m spacy download en"
   ]
  },
  {
   "cell_type": "code",
   "execution_count": 58,
   "metadata": {},
   "outputs": [],
   "source": [
    "nlp = spacy.load(\"en\")"
   ]
  },
  {
   "cell_type": "code",
   "execution_count": 59,
   "metadata": {},
   "outputs": [
    {
     "name": "stderr",
     "output_type": "stream",
     "text": [
      "[nltk_data] Downloading package stopwords to\n",
      "[nltk_data]     C:\\Users\\RAJSHREE\\AppData\\Roaming\\nltk_data...\n",
      "[nltk_data]   Package stopwords is already up-to-date!\n",
      "[nltk_data] Downloading package punkt to\n",
      "[nltk_data]     C:\\Users\\RAJSHREE\\AppData\\Roaming\\nltk_data...\n",
      "[nltk_data]   Package punkt is already up-to-date!\n",
      "[nltk_data] Downloading package wordnet to\n",
      "[nltk_data]     C:\\Users\\RAJSHREE\\AppData\\Roaming\\nltk_data...\n",
      "[nltk_data]   Package wordnet is already up-to-date!\n"
     ]
    },
    {
     "data": {
      "text/plain": [
       "True"
      ]
     },
     "execution_count": 59,
     "metadata": {},
     "output_type": "execute_result"
    }
   ],
   "source": [
    "nltk.download('stopwords')\n",
    "nltk.download('punkt')\n",
    "nltk.download('wordnet')"
   ]
  },
  {
   "cell_type": "code",
   "execution_count": 62,
   "metadata": {},
   "outputs": [],
   "source": [
    "def extract_noun(doc):\n",
    "    return ([i for i in nlp(doc) if i.pos_=='NOUN'],[i for i in nlp(doc) if i.pos_=='PROPN'])"
   ]
  },
  {
   "cell_type": "code",
   "execution_count": 63,
   "metadata": {},
   "outputs": [],
   "source": [
    "data['noun_keywords'] =  data['prod_des'].apply(extract_noun)"
   ]
  },
  {
   "cell_type": "code",
   "execution_count": 64,
   "metadata": {},
   "outputs": [
    {
     "data": {
      "text/html": [
       "<div>\n",
       "<style scoped>\n",
       "    .dataframe tbody tr th:only-of-type {\n",
       "        vertical-align: middle;\n",
       "    }\n",
       "\n",
       "    .dataframe tbody tr th {\n",
       "        vertical-align: top;\n",
       "    }\n",
       "\n",
       "    .dataframe thead th {\n",
       "        text-align: right;\n",
       "    }\n",
       "</style>\n",
       "<table border=\"1\" class=\"dataframe\">\n",
       "  <thead>\n",
       "    <tr style=\"text-align: right;\">\n",
       "      <th></th>\n",
       "      <th>Product_name</th>\n",
       "      <th>prod_des</th>\n",
       "      <th>Rev Length</th>\n",
       "      <th>noun_keywords</th>\n",
       "    </tr>\n",
       "  </thead>\n",
       "  <tbody>\n",
       "    <tr>\n",
       "      <th>0</th>\n",
       "      <td>7508492919</td>\n",
       "      <td>Cute. I can't stop using this case!. Bling cut...</td>\n",
       "      <td>540</td>\n",
       "      <td>([case, case, Bing, Bling, price, CASE, case, ...</td>\n",
       "    </tr>\n",
       "    <tr>\n",
       "      <th>1</th>\n",
       "      <td>7532385086</td>\n",
       "      <td>A waste of money!. One Star. htc evo cover. No...</td>\n",
       "      <td>123</td>\n",
       "      <td>([waste, money, product], [Star, evo, Stars])</td>\n",
       "    </tr>\n",
       "    <tr>\n",
       "      <th>2</th>\n",
       "      <td>7887421268</td>\n",
       "      <td>Five Stars. plastic with suede. good deal. Thi...</td>\n",
       "      <td>190</td>\n",
       "      <td>([Stars, plastic, suede, deal, case, fit], [St...</td>\n",
       "    </tr>\n",
       "    <tr>\n",
       "      <th>3</th>\n",
       "      <td>8199900164</td>\n",
       "      <td>item didn't work. Five Stars. I</td>\n",
       "      <td>31</td>\n",
       "      <td>([item, Stars], [])</td>\n",
       "    </tr>\n",
       "    <tr>\n",
       "      <th>4</th>\n",
       "      <td>8288853439</td>\n",
       "      <td>Galaxy S4 Charger. Works Great.... GOOD BUY. L...</td>\n",
       "      <td>140</td>\n",
       "      <td>([BUY, Stars, Stars, charger, Stars, charger],...</td>\n",
       "    </tr>\n",
       "  </tbody>\n",
       "</table>\n",
       "</div>"
      ],
      "text/plain": [
       "  Product_name                                           prod_des  Rev Length  \\\n",
       "0   7508492919  Cute. I can't stop using this case!. Bling cut...         540   \n",
       "1   7532385086  A waste of money!. One Star. htc evo cover. No...         123   \n",
       "2   7887421268  Five Stars. plastic with suede. good deal. Thi...         190   \n",
       "3   8199900164                    item didn't work. Five Stars. I          31   \n",
       "4   8288853439  Galaxy S4 Charger. Works Great.... GOOD BUY. L...         140   \n",
       "\n",
       "                                       noun_keywords  \n",
       "0  ([case, case, Bing, Bling, price, CASE, case, ...  \n",
       "1      ([waste, money, product], [Star, evo, Stars])  \n",
       "2  ([Stars, plastic, suede, deal, case, fit], [St...  \n",
       "3                                ([item, Stars], [])  \n",
       "4  ([BUY, Stars, Stars, charger, Stars, charger],...  "
      ]
     },
     "execution_count": 64,
     "metadata": {},
     "output_type": "execute_result"
    }
   ],
   "source": [
    "data.head()"
   ]
  },
  {
   "cell_type": "code",
   "execution_count": 65,
   "metadata": {},
   "outputs": [],
   "source": [
    "df_noun_out = pd.DataFrame(data = {'Product_name': data['Product_name'],'prod_des':data['prod_des'],'keywords':data['noun_keywords']})"
   ]
  },
  {
   "cell_type": "code",
   "execution_count": 66,
   "metadata": {},
   "outputs": [
    {
     "data": {
      "text/html": [
       "<div>\n",
       "<style scoped>\n",
       "    .dataframe tbody tr th:only-of-type {\n",
       "        vertical-align: middle;\n",
       "    }\n",
       "\n",
       "    .dataframe tbody tr th {\n",
       "        vertical-align: top;\n",
       "    }\n",
       "\n",
       "    .dataframe thead th {\n",
       "        text-align: right;\n",
       "    }\n",
       "</style>\n",
       "<table border=\"1\" class=\"dataframe\">\n",
       "  <thead>\n",
       "    <tr style=\"text-align: right;\">\n",
       "      <th></th>\n",
       "      <th>Product_name</th>\n",
       "      <th>prod_des</th>\n",
       "      <th>keywords</th>\n",
       "    </tr>\n",
       "  </thead>\n",
       "  <tbody>\n",
       "    <tr>\n",
       "      <th>8413</th>\n",
       "      <td>B009TTSQPY</td>\n",
       "      <td>Great Protector Sleeve, shipping took alittle ...</td>\n",
       "      <td>([shipping, alittle, Stars, price, Screen, fil...</td>\n",
       "    </tr>\n",
       "    <tr>\n",
       "      <th>36705</th>\n",
       "      <td>B013TK7JCE</td>\n",
       "      <td>Love it. Five Stars. the case also offers a pr...</td>\n",
       "      <td>([Stars, case, buffer, edge, phone, Protects, ...</td>\n",
       "    </tr>\n",
       "    <tr>\n",
       "      <th>30985</th>\n",
       "      <td>B00UN9BYDU</td>\n",
       "      <td>Under-powered but works as advertised. Compact...</td>\n",
       "      <td>([charger, flashtlight, gizmo, back, up, flash...</td>\n",
       "    </tr>\n",
       "    <tr>\n",
       "      <th>43665</th>\n",
       "      <td>B01CLOZ7WI</td>\n",
       "      <td>Buyer beware.. awesome case. Five Stars. Very ...</td>\n",
       "      <td>([case, Stars, case, case, glove, case, phone,...</td>\n",
       "    </tr>\n",
       "    <tr>\n",
       "      <th>1908</th>\n",
       "      <td>B0042FZ9K0</td>\n",
       "      <td>Tabs slip off.... One Star. This is a good one...</td>\n",
       "      <td>([Tabs, one, product, product, pain, feet, mou...</td>\n",
       "    </tr>\n",
       "    <tr>\n",
       "      <th>12134</th>\n",
       "      <td>B00CYNN4ZO</td>\n",
       "      <td>not bad at all. Adequate. Unsatisfied. NOT you...</td>\n",
       "      <td>([day, protection, spring, lifeproof, reason],...</td>\n",
       "    </tr>\n",
       "    <tr>\n",
       "      <th>19468</th>\n",
       "      <td>B00JM0YV1I</td>\n",
       "      <td>Five Stars. Is is good for the price and does ...</td>\n",
       "      <td>([Stars, price, phone, Stars], [Star])</td>\n",
       "    </tr>\n",
       "    <tr>\n",
       "      <th>45562</th>\n",
       "      <td>B01EFEX6LG</td>\n",
       "      <td>Works Well With Movies, But Haven't Been Able ...</td>\n",
       "      <td>([Movies, price, money, Stars], [Games, MEH])</td>\n",
       "    </tr>\n",
       "    <tr>\n",
       "      <th>17407</th>\n",
       "      <td>B00HSWMXIK</td>\n",
       "      <td>Five Stars. Works great</td>\n",
       "      <td>([Stars], [])</td>\n",
       "    </tr>\n",
       "    <tr>\n",
       "      <th>26609</th>\n",
       "      <td>B00P0W6OLM</td>\n",
       "      <td>Focus people, focus!. Five Stars. Nice kit, bu...</td>\n",
       "      <td>([people, Stars, kit, lens, image, distortion,...</td>\n",
       "    </tr>\n",
       "  </tbody>\n",
       "</table>\n",
       "</div>"
      ],
      "text/plain": [
       "      Product_name                                           prod_des  \\\n",
       "8413    B009TTSQPY  Great Protector Sleeve, shipping took alittle ...   \n",
       "36705   B013TK7JCE  Love it. Five Stars. the case also offers a pr...   \n",
       "30985   B00UN9BYDU  Under-powered but works as advertised. Compact...   \n",
       "43665   B01CLOZ7WI  Buyer beware.. awesome case. Five Stars. Very ...   \n",
       "1908    B0042FZ9K0  Tabs slip off.... One Star. This is a good one...   \n",
       "12134   B00CYNN4ZO  not bad at all. Adequate. Unsatisfied. NOT you...   \n",
       "19468   B00JM0YV1I  Five Stars. Is is good for the price and does ...   \n",
       "45562   B01EFEX6LG  Works Well With Movies, But Haven't Been Able ...   \n",
       "17407   B00HSWMXIK                            Five Stars. Works great   \n",
       "26609   B00P0W6OLM  Focus people, focus!. Five Stars. Nice kit, bu...   \n",
       "\n",
       "                                                keywords  \n",
       "8413   ([shipping, alittle, Stars, price, Screen, fil...  \n",
       "36705  ([Stars, case, buffer, edge, phone, Protects, ...  \n",
       "30985  ([charger, flashtlight, gizmo, back, up, flash...  \n",
       "43665  ([case, Stars, case, case, glove, case, phone,...  \n",
       "1908   ([Tabs, one, product, product, pain, feet, mou...  \n",
       "12134  ([day, protection, spring, lifeproof, reason],...  \n",
       "19468             ([Stars, price, phone, Stars], [Star])  \n",
       "45562      ([Movies, price, money, Stars], [Games, MEH])  \n",
       "17407                                      ([Stars], [])  \n",
       "26609  ([people, Stars, kit, lens, image, distortion,...  "
      ]
     },
     "execution_count": 66,
     "metadata": {},
     "output_type": "execute_result"
    }
   ],
   "source": [
    "df_noun_out.sample(10)"
   ]
  },
  {
   "cell_type": "code",
   "execution_count": 67,
   "metadata": {},
   "outputs": [],
   "source": [
    "def tuple_to_list(t):\n",
    "    l1,l2 = t\n",
    "    l1.extend(l2)\n",
    "    return [str(i) for i in l1] "
   ]
  },
  {
   "cell_type": "code",
   "execution_count": 68,
   "metadata": {},
   "outputs": [],
   "source": [
    "data['keywords'] = df_noun_out['keywords'].apply(tuple_to_list)"
   ]
  },
  {
   "cell_type": "code",
   "execution_count": 69,
   "metadata": {},
   "outputs": [
    {
     "data": {
      "text/plain": [
       "0        [case, case, Bing, Bling, price, CASE, case, c...\n",
       "1                [waste, money, product, Star, evo, Stars]\n",
       "2        [Stars, plastic, suede, deal, case, fit, Star,...\n",
       "3                                            [item, Stars]\n",
       "4        [BUY, Stars, Stars, charger, Stars, charger, G...\n",
       "                               ...                        \n",
       "48128    [Charger, headphone, holes, case, holster, cas...\n",
       "48129    [experience, VR, one, FUTURE, VR, headset, dev...\n",
       "48130    [Stars, Stars, product, nylon, cord, cable, th...\n",
       "48131                    [cable, cable, Stars, Stars, Buy]\n",
       "48132           [crack, Stars, cover, folks, money, price]\n",
       "Name: keywords, Length: 48133, dtype: object"
      ]
     },
     "execution_count": 69,
     "metadata": {},
     "output_type": "execute_result"
    }
   ],
   "source": [
    "data['keywords']"
   ]
  },
  {
   "cell_type": "code",
   "execution_count": 70,
   "metadata": {},
   "outputs": [],
   "source": [
    "df = [' '.join(i) for i in data['keywords']]"
   ]
  },
  {
   "cell_type": "code",
   "execution_count": 71,
   "metadata": {},
   "outputs": [
    {
     "name": "stdout",
     "output_type": "stream",
     "text": [
      "TFIDF shape:  (48133, 12)\n",
      "Terms in TFIDF:  ['case', 'fit', 'great', 'iphone', 'phone', 'price', 'product', 'protection', 'quality', 'screen', 'star', 'stars']\n"
     ]
    }
   ],
   "source": [
    "vectorizer1 = TfidfVectorizer(df,lowercase = True, analyzer='word', stop_words='english', min_df = 0.1,max_df = 0.9)\n",
    "tfidfmat1 = vectorizer1.fit_transform(df)\n",
    "print(\"TFIDF shape: \", tfidfmat1.shape)\n",
    "print(\"Terms in TFIDF: \",vectorizer1.get_feature_names())\n",
    "terms = vectorizer1.get_feature_names()"
   ]
  },
  {
   "cell_type": "code",
   "execution_count": 72,
   "metadata": {},
   "outputs": [],
   "source": [
    "def topn(tfidfmat,n):\n",
    "    lst = []\n",
    "    lst = [tfidfmat.todense()[i].argsort()[:,-n:] for i in range(tfidfmat.shape[0])]\n",
    "    return lst"
   ]
  },
  {
   "cell_type": "code",
   "execution_count": 73,
   "metadata": {},
   "outputs": [],
   "source": [
    "def get_topn_multi_keywords(tfidfmat,n,terms):\n",
    "    topn_lst_indices = topn(tfidfmat,n)\n",
    "    topn_lst_indices = np.array(topn_lst_indices).reshape((tfidfmat.shape[0],n))\n",
    "    doc_keywords = [[terms[i] for i in l] for l in topn_lst_indices]\n",
    "    return doc_keywords"
   ]
  },
  {
   "cell_type": "code",
   "execution_count": 74,
   "metadata": {},
   "outputs": [
    {
     "data": {
      "text/html": [
       "<div>\n",
       "<style scoped>\n",
       "    .dataframe tbody tr th:only-of-type {\n",
       "        vertical-align: middle;\n",
       "    }\n",
       "\n",
       "    .dataframe tbody tr th {\n",
       "        vertical-align: top;\n",
       "    }\n",
       "\n",
       "    .dataframe thead th {\n",
       "        text-align: right;\n",
       "    }\n",
       "</style>\n",
       "<table border=\"1\" class=\"dataframe\">\n",
       "  <thead>\n",
       "    <tr style=\"text-align: right;\">\n",
       "      <th></th>\n",
       "      <th>Product_name</th>\n",
       "      <th>prod_des</th>\n",
       "      <th>multi_keywords</th>\n",
       "    </tr>\n",
       "  </thead>\n",
       "  <tbody>\n",
       "    <tr>\n",
       "      <th>0</th>\n",
       "      <td>7508492919</td>\n",
       "      <td>Cute. I can't stop using this case!. Bling cut...</td>\n",
       "      <td>[iphone, phone, case]</td>\n",
       "    </tr>\n",
       "    <tr>\n",
       "      <th>1</th>\n",
       "      <td>7532385086</td>\n",
       "      <td>A waste of money!. One Star. htc evo cover. No...</td>\n",
       "      <td>[stars, product, star]</td>\n",
       "    </tr>\n",
       "    <tr>\n",
       "      <th>2</th>\n",
       "      <td>7887421268</td>\n",
       "      <td>Five Stars. plastic with suede. good deal. Thi...</td>\n",
       "      <td>[stars, star, fit]</td>\n",
       "    </tr>\n",
       "    <tr>\n",
       "      <th>3</th>\n",
       "      <td>8199900164</td>\n",
       "      <td>item didn't work. Five Stars. I</td>\n",
       "      <td>[screen, star, stars]</td>\n",
       "    </tr>\n",
       "    <tr>\n",
       "      <th>4</th>\n",
       "      <td>8288853439</td>\n",
       "      <td>Galaxy S4 Charger. Works Great.... GOOD BUY. L...</td>\n",
       "      <td>[screen, star, stars]</td>\n",
       "    </tr>\n",
       "    <tr>\n",
       "      <th>...</th>\n",
       "      <td>...</td>\n",
       "      <td>...</td>\n",
       "      <td>...</td>\n",
       "    </tr>\n",
       "    <tr>\n",
       "      <th>48128</th>\n",
       "      <td>B01HJBS5C2</td>\n",
       "      <td>(Hybrid Carbon Fiber) Charger and headphone ho...</td>\n",
       "      <td>[stars, star, case]</td>\n",
       "    </tr>\n",
       "    <tr>\n",
       "      <th>48129</th>\n",
       "      <td>B01HJC7N4C</td>\n",
       "      <td>My first experience with VR, and it's a very p...</td>\n",
       "      <td>[screen, star, stars]</td>\n",
       "    </tr>\n",
       "    <tr>\n",
       "      <th>48130</th>\n",
       "      <td>B01HJCN1UC</td>\n",
       "      <td>Four Stars. Five Stars. Durable and well made....</td>\n",
       "      <td>[star, product, stars]</td>\n",
       "    </tr>\n",
       "    <tr>\n",
       "      <th>48131</th>\n",
       "      <td>B01HJCN55I</td>\n",
       "      <td>I really like the cable. Good cable. Worth.. G...</td>\n",
       "      <td>[screen, star, stars]</td>\n",
       "    </tr>\n",
       "    <tr>\n",
       "      <th>48132</th>\n",
       "      <td>B01HJH9IN6</td>\n",
       "      <td>Looked great, before crack.. Five Stars. Good ...</td>\n",
       "      <td>[star, stars, price]</td>\n",
       "    </tr>\n",
       "  </tbody>\n",
       "</table>\n",
       "<p>48133 rows × 3 columns</p>\n",
       "</div>"
      ],
      "text/plain": [
       "      Product_name                                           prod_des  \\\n",
       "0       7508492919  Cute. I can't stop using this case!. Bling cut...   \n",
       "1       7532385086  A waste of money!. One Star. htc evo cover. No...   \n",
       "2       7887421268  Five Stars. plastic with suede. good deal. Thi...   \n",
       "3       8199900164                    item didn't work. Five Stars. I   \n",
       "4       8288853439  Galaxy S4 Charger. Works Great.... GOOD BUY. L...   \n",
       "...            ...                                                ...   \n",
       "48128   B01HJBS5C2  (Hybrid Carbon Fiber) Charger and headphone ho...   \n",
       "48129   B01HJC7N4C  My first experience with VR, and it's a very p...   \n",
       "48130   B01HJCN1UC  Four Stars. Five Stars. Durable and well made....   \n",
       "48131   B01HJCN55I  I really like the cable. Good cable. Worth.. G...   \n",
       "48132   B01HJH9IN6  Looked great, before crack.. Five Stars. Good ...   \n",
       "\n",
       "               multi_keywords  \n",
       "0       [iphone, phone, case]  \n",
       "1      [stars, product, star]  \n",
       "2          [stars, star, fit]  \n",
       "3       [screen, star, stars]  \n",
       "4       [screen, star, stars]  \n",
       "...                       ...  \n",
       "48128     [stars, star, case]  \n",
       "48129   [screen, star, stars]  \n",
       "48130  [star, product, stars]  \n",
       "48131   [screen, star, stars]  \n",
       "48132    [star, stars, price]  \n",
       "\n",
       "[48133 rows x 3 columns]"
      ]
     },
     "execution_count": 74,
     "metadata": {},
     "output_type": "execute_result"
    }
   ],
   "source": [
    "doc_keywords = get_topn_multi_keywords(tfidfmat1,3,terms)\n",
    "df_tfidf_out1 = pd.DataFrame(data = {'Product_name': data['Product_name'],'prod_des':data['prod_des'],'multi_keywords':doc_keywords})\n",
    "df_tfidf_out1"
   ]
  },
  {
   "cell_type": "code",
   "execution_count": 75,
   "metadata": {},
   "outputs": [],
   "source": [
    "def preprocessing(s):\n",
    "    s = re.sub('[!\"#$%&\\'()*+,-./:;<=>?@[\\\\]^_`{|}~]','',s)\n",
    "    s = re.sub(r\"http\\S+\",'', s)  \n",
    "    d = nlp(s)\n",
    "    lemmas = [token.lemma_ for token in d if not token.is_stop]\n",
    "    return lemmas"
   ]
  },
  {
   "cell_type": "code",
   "execution_count": 76,
   "metadata": {},
   "outputs": [],
   "source": [
    "pre_df = [preprocessing(i) for i in df]"
   ]
  },
  {
   "cell_type": "code",
   "execution_count": 77,
   "metadata": {},
   "outputs": [
    {
     "data": {
      "text/plain": [
       "['case',\n",
       " 'case',\n",
       " 'Bing',\n",
       " 'Bling',\n",
       " 'price',\n",
       " 'CASE',\n",
       " 'case',\n",
       " 'case',\n",
       " 'tightt',\n",
       " 'plastic',\n",
       " 'phone',\n",
       " 'cover',\n",
       " 'ADORABLE',\n",
       " 'rest',\n",
       " 'ble',\n",
       " 'case',\n",
       " 'case',\n",
       " 'Great',\n",
       " 'Gift',\n",
       " 'Luv',\n",
       " 'luv',\n",
       " 'luv',\n",
       " 'iPhone',\n",
       " '4s',\n",
       " 'beautiful',\n",
       " 'phone',\n",
       " 'Stars',\n",
       " 'GONNA',\n",
       " 'bow',\n",
       " 'sara',\n",
       " 'Cute',\n",
       " 'Crystal',\n",
       " 'Bow']"
      ]
     },
     "execution_count": 77,
     "metadata": {},
     "output_type": "execute_result"
    }
   ],
   "source": [
    "pre_df[0]"
   ]
  },
  {
   "cell_type": "code",
   "execution_count": 78,
   "metadata": {},
   "outputs": [],
   "source": [
    "docs = [' '.join(i) for i in pre_df]"
   ]
  },
  {
   "cell_type": "code",
   "execution_count": 79,
   "metadata": {},
   "outputs": [
    {
     "data": {
      "text/plain": [
       "(48133, 31)"
      ]
     },
     "execution_count": 79,
     "metadata": {},
     "output_type": "execute_result"
    }
   ],
   "source": [
    "vectorizer2 = TfidfVectorizer(docs,lowercase = True, min_df = 0.05,max_df = 0.95)\n",
    "tfidfmat2 = vectorizer2.fit_transform(docs)\n",
    "tfidfmat2.shape"
   ]
  },
  {
   "cell_type": "code",
   "execution_count": 80,
   "metadata": {},
   "outputs": [
    {
     "data": {
      "text/plain": [
       "['battery', 'buy', 'case', 'charge', 'charger']"
      ]
     },
     "execution_count": 80,
     "metadata": {},
     "output_type": "execute_result"
    }
   ],
   "source": [
    "vectorizer2.get_feature_names()[:5]"
   ]
  },
  {
   "cell_type": "code",
   "execution_count": 81,
   "metadata": {
    "scrolled": true
   },
   "outputs": [
    {
     "data": {
      "text/html": [
       "<div>\n",
       "<style scoped>\n",
       "    .dataframe tbody tr th:only-of-type {\n",
       "        vertical-align: middle;\n",
       "    }\n",
       "\n",
       "    .dataframe tbody tr th {\n",
       "        vertical-align: top;\n",
       "    }\n",
       "\n",
       "    .dataframe thead th {\n",
       "        text-align: right;\n",
       "    }\n",
       "</style>\n",
       "<table border=\"1\" class=\"dataframe\">\n",
       "  <thead>\n",
       "    <tr style=\"text-align: right;\">\n",
       "      <th></th>\n",
       "      <th>Product_name</th>\n",
       "      <th>prod_des</th>\n",
       "      <th>keywords</th>\n",
       "    </tr>\n",
       "  </thead>\n",
       "  <tbody>\n",
       "    <tr>\n",
       "      <th>0</th>\n",
       "      <td>7508492919</td>\n",
       "      <td>Cute. I can't stop using this case!. Bling cut...</td>\n",
       "      <td>case</td>\n",
       "    </tr>\n",
       "    <tr>\n",
       "      <th>1</th>\n",
       "      <td>7532385086</td>\n",
       "      <td>A waste of money!. One Star. htc evo cover. No...</td>\n",
       "      <td>money</td>\n",
       "    </tr>\n",
       "    <tr>\n",
       "      <th>2</th>\n",
       "      <td>7887421268</td>\n",
       "      <td>Five Stars. plastic with suede. good deal. Thi...</td>\n",
       "      <td>protector</td>\n",
       "    </tr>\n",
       "    <tr>\n",
       "      <th>3</th>\n",
       "      <td>8199900164</td>\n",
       "      <td>item didn't work. Five Stars. I</td>\n",
       "      <td>item</td>\n",
       "    </tr>\n",
       "    <tr>\n",
       "      <th>4</th>\n",
       "      <td>8288853439</td>\n",
       "      <td>Galaxy S4 Charger. Works Great.... GOOD BUY. L...</td>\n",
       "      <td>charger</td>\n",
       "    </tr>\n",
       "    <tr>\n",
       "      <th>...</th>\n",
       "      <td>...</td>\n",
       "      <td>...</td>\n",
       "      <td>...</td>\n",
       "    </tr>\n",
       "    <tr>\n",
       "      <th>48128</th>\n",
       "      <td>B01HJBS5C2</td>\n",
       "      <td>(Hybrid Carbon Fiber) Charger and headphone ho...</td>\n",
       "      <td>phone</td>\n",
       "    </tr>\n",
       "    <tr>\n",
       "      <th>48129</th>\n",
       "      <td>B01HJC7N4C</td>\n",
       "      <td>My first experience with VR, and it's a very p...</td>\n",
       "      <td>star</td>\n",
       "    </tr>\n",
       "    <tr>\n",
       "      <th>48130</th>\n",
       "      <td>B01HJCN1UC</td>\n",
       "      <td>Four Stars. Five Stars. Durable and well made....</td>\n",
       "      <td>product</td>\n",
       "    </tr>\n",
       "    <tr>\n",
       "      <th>48131</th>\n",
       "      <td>B01HJCN55I</td>\n",
       "      <td>I really like the cable. Good cable. Worth.. G...</td>\n",
       "      <td>buy</td>\n",
       "    </tr>\n",
       "    <tr>\n",
       "      <th>48132</th>\n",
       "      <td>B01HJH9IN6</td>\n",
       "      <td>Looked great, before crack.. Five Stars. Good ...</td>\n",
       "      <td>cover</td>\n",
       "    </tr>\n",
       "  </tbody>\n",
       "</table>\n",
       "<p>48133 rows × 3 columns</p>\n",
       "</div>"
      ],
      "text/plain": [
       "      Product_name                                           prod_des  \\\n",
       "0       7508492919  Cute. I can't stop using this case!. Bling cut...   \n",
       "1       7532385086  A waste of money!. One Star. htc evo cover. No...   \n",
       "2       7887421268  Five Stars. plastic with suede. good deal. Thi...   \n",
       "3       8199900164                    item didn't work. Five Stars. I   \n",
       "4       8288853439  Galaxy S4 Charger. Works Great.... GOOD BUY. L...   \n",
       "...            ...                                                ...   \n",
       "48128   B01HJBS5C2  (Hybrid Carbon Fiber) Charger and headphone ho...   \n",
       "48129   B01HJC7N4C  My first experience with VR, and it's a very p...   \n",
       "48130   B01HJCN1UC  Four Stars. Five Stars. Durable and well made....   \n",
       "48131   B01HJCN55I  I really like the cable. Good cable. Worth.. G...   \n",
       "48132   B01HJH9IN6  Looked great, before crack.. Five Stars. Good ...   \n",
       "\n",
       "        keywords  \n",
       "0           case  \n",
       "1          money  \n",
       "2      protector  \n",
       "3           item  \n",
       "4        charger  \n",
       "...          ...  \n",
       "48128      phone  \n",
       "48129       star  \n",
       "48130    product  \n",
       "48131        buy  \n",
       "48132      cover  \n",
       "\n",
       "[48133 rows x 3 columns]"
      ]
     },
     "execution_count": 81,
     "metadata": {},
     "output_type": "execute_result"
    }
   ],
   "source": [
    "max_ind = [np.argmax(i) for i in tfidfmat2.todense()]\n",
    "terms2 = vectorizer2.get_feature_names()\n",
    "doc_keywords = [terms2[i] for i in max_ind]\n",
    "df_tfidf_out2 = pd.DataFrame(data = {'Product_name': data['Product_name'],'prod_des':data['prod_des'],'keywords':doc_keywords})\n",
    "df_tfidf_out2"
   ]
  },
  {
   "cell_type": "code",
   "execution_count": 84,
   "metadata": {},
   "outputs": [
    {
     "data": {
      "text/html": [
       "<div>\n",
       "<style scoped>\n",
       "    .dataframe tbody tr th:only-of-type {\n",
       "        vertical-align: middle;\n",
       "    }\n",
       "\n",
       "    .dataframe tbody tr th {\n",
       "        vertical-align: top;\n",
       "    }\n",
       "\n",
       "    .dataframe thead th {\n",
       "        text-align: right;\n",
       "    }\n",
       "</style>\n",
       "<table border=\"1\" class=\"dataframe\">\n",
       "  <thead>\n",
       "    <tr style=\"text-align: right;\">\n",
       "      <th></th>\n",
       "      <th>Product_name</th>\n",
       "      <th>prod_des</th>\n",
       "      <th>multi_keywords</th>\n",
       "    </tr>\n",
       "  </thead>\n",
       "  <tbody>\n",
       "    <tr>\n",
       "      <th>0</th>\n",
       "      <td>7508492919</td>\n",
       "      <td>Cute. I can't stop using this case!. Bling cut...</td>\n",
       "      <td>[cover, phone, case]</td>\n",
       "    </tr>\n",
       "    <tr>\n",
       "      <th>1</th>\n",
       "      <td>7532385086</td>\n",
       "      <td>A waste of money!. One Star. htc evo cover. No...</td>\n",
       "      <td>[product, star, money]</td>\n",
       "    </tr>\n",
       "    <tr>\n",
       "      <th>2</th>\n",
       "      <td>7887421268</td>\n",
       "      <td>Five Stars. plastic with suede. good deal. Thi...</td>\n",
       "      <td>[star, fit, protector]</td>\n",
       "    </tr>\n",
       "    <tr>\n",
       "      <th>3</th>\n",
       "      <td>8199900164</td>\n",
       "      <td>item didn't work. Five Stars. I</td>\n",
       "      <td>[work, star, item]</td>\n",
       "    </tr>\n",
       "    <tr>\n",
       "      <th>4</th>\n",
       "      <td>8288853439</td>\n",
       "      <td>Galaxy S4 Charger. Works Great.... GOOD BUY. L...</td>\n",
       "      <td>[buy, stars, charger]</td>\n",
       "    </tr>\n",
       "    <tr>\n",
       "      <th>...</th>\n",
       "      <td>...</td>\n",
       "      <td>...</td>\n",
       "      <td>...</td>\n",
       "    </tr>\n",
       "    <tr>\n",
       "      <th>48128</th>\n",
       "      <td>B01HJBS5C2</td>\n",
       "      <td>(Hybrid Carbon Fiber) Charger and headphone ho...</td>\n",
       "      <td>[charger, case, phone]</td>\n",
       "    </tr>\n",
       "    <tr>\n",
       "      <th>48129</th>\n",
       "      <td>B01HJC7N4C</td>\n",
       "      <td>My first experience with VR, and it's a very p...</td>\n",
       "      <td>[job, work, star]</td>\n",
       "    </tr>\n",
       "    <tr>\n",
       "      <th>48130</th>\n",
       "      <td>B01HJCN1UC</td>\n",
       "      <td>Four Stars. Five Stars. Durable and well made....</td>\n",
       "      <td>[star, stars, product]</td>\n",
       "    </tr>\n",
       "    <tr>\n",
       "      <th>48131</th>\n",
       "      <td>B01HJCN55I</td>\n",
       "      <td>I really like the cable. Good cable. Worth.. G...</td>\n",
       "      <td>[work, star, buy]</td>\n",
       "    </tr>\n",
       "    <tr>\n",
       "      <th>48132</th>\n",
       "      <td>B01HJH9IN6</td>\n",
       "      <td>Looked great, before crack.. Five Stars. Good ...</td>\n",
       "      <td>[price, money, cover]</td>\n",
       "    </tr>\n",
       "  </tbody>\n",
       "</table>\n",
       "<p>48133 rows × 3 columns</p>\n",
       "</div>"
      ],
      "text/plain": [
       "      Product_name                                           prod_des  \\\n",
       "0       7508492919  Cute. I can't stop using this case!. Bling cut...   \n",
       "1       7532385086  A waste of money!. One Star. htc evo cover. No...   \n",
       "2       7887421268  Five Stars. plastic with suede. good deal. Thi...   \n",
       "3       8199900164                    item didn't work. Five Stars. I   \n",
       "4       8288853439  Galaxy S4 Charger. Works Great.... GOOD BUY. L...   \n",
       "...            ...                                                ...   \n",
       "48128   B01HJBS5C2  (Hybrid Carbon Fiber) Charger and headphone ho...   \n",
       "48129   B01HJC7N4C  My first experience with VR, and it's a very p...   \n",
       "48130   B01HJCN1UC  Four Stars. Five Stars. Durable and well made....   \n",
       "48131   B01HJCN55I  I really like the cable. Good cable. Worth.. G...   \n",
       "48132   B01HJH9IN6  Looked great, before crack.. Five Stars. Good ...   \n",
       "\n",
       "               multi_keywords  \n",
       "0        [cover, phone, case]  \n",
       "1      [product, star, money]  \n",
       "2      [star, fit, protector]  \n",
       "3          [work, star, item]  \n",
       "4       [buy, stars, charger]  \n",
       "...                       ...  \n",
       "48128  [charger, case, phone]  \n",
       "48129       [job, work, star]  \n",
       "48130  [star, stars, product]  \n",
       "48131       [work, star, buy]  \n",
       "48132   [price, money, cover]  \n",
       "\n",
       "[48133 rows x 3 columns]"
      ]
     },
     "execution_count": 84,
     "metadata": {},
     "output_type": "execute_result"
    }
   ],
   "source": [
    "doc_keywords = get_topn_multi_keywords(tfidfmat2,3,terms2)\n",
    "df_tfidf_out2 = pd.DataFrame(data = {'Product_name': data['Product_name'],'prod_des':data['prod_des'],'multi_keywords':doc_keywords})\n",
    "df_tfidf_out2"
   ]
  },
  {
   "cell_type": "code",
   "execution_count": 85,
   "metadata": {},
   "outputs": [
    {
     "data": {
      "text/plain": [
       "(48133, 12)"
      ]
     },
     "execution_count": 85,
     "metadata": {},
     "output_type": "execute_result"
    }
   ],
   "source": [
    "vectorizer3 = TfidfVectorizer(docs,lowercase = True, min_df = 0.1,max_df = 0.9)\n",
    "tfidfmat3 = vectorizer3.fit_transform(docs)\n",
    "tfidfmat3.shape"
   ]
  },
  {
   "cell_type": "code",
   "execution_count": 86,
   "metadata": {},
   "outputs": [
    {
     "data": {
      "text/html": [
       "<div>\n",
       "<style scoped>\n",
       "    .dataframe tbody tr th:only-of-type {\n",
       "        vertical-align: middle;\n",
       "    }\n",
       "\n",
       "    .dataframe tbody tr th {\n",
       "        vertical-align: top;\n",
       "    }\n",
       "\n",
       "    .dataframe thead th {\n",
       "        text-align: right;\n",
       "    }\n",
       "</style>\n",
       "<table border=\"1\" class=\"dataframe\">\n",
       "  <thead>\n",
       "    <tr style=\"text-align: right;\">\n",
       "      <th></th>\n",
       "      <th>Product_name</th>\n",
       "      <th>prod_des</th>\n",
       "      <th>keywords</th>\n",
       "    </tr>\n",
       "  </thead>\n",
       "  <tbody>\n",
       "    <tr>\n",
       "      <th>0</th>\n",
       "      <td>7508492919</td>\n",
       "      <td>Cute. I can't stop using this case!. Bling cut...</td>\n",
       "      <td>case</td>\n",
       "    </tr>\n",
       "    <tr>\n",
       "      <th>1</th>\n",
       "      <td>7532385086</td>\n",
       "      <td>A waste of money!. One Star. htc evo cover. No...</td>\n",
       "      <td>star</td>\n",
       "    </tr>\n",
       "    <tr>\n",
       "      <th>2</th>\n",
       "      <td>7887421268</td>\n",
       "      <td>Five Stars. plastic with suede. good deal. Thi...</td>\n",
       "      <td>fit</td>\n",
       "    </tr>\n",
       "    <tr>\n",
       "      <th>3</th>\n",
       "      <td>8199900164</td>\n",
       "      <td>item didn't work. Five Stars. I</td>\n",
       "      <td>star</td>\n",
       "    </tr>\n",
       "    <tr>\n",
       "      <th>4</th>\n",
       "      <td>8288853439</td>\n",
       "      <td>Galaxy S4 Charger. Works Great.... GOOD BUY. L...</td>\n",
       "      <td>stars</td>\n",
       "    </tr>\n",
       "    <tr>\n",
       "      <th>...</th>\n",
       "      <td>...</td>\n",
       "      <td>...</td>\n",
       "      <td>...</td>\n",
       "    </tr>\n",
       "    <tr>\n",
       "      <th>48128</th>\n",
       "      <td>B01HJBS5C2</td>\n",
       "      <td>(Hybrid Carbon Fiber) Charger and headphone ho...</td>\n",
       "      <td>phone</td>\n",
       "    </tr>\n",
       "    <tr>\n",
       "      <th>48129</th>\n",
       "      <td>B01HJC7N4C</td>\n",
       "      <td>My first experience with VR, and it's a very p...</td>\n",
       "      <td>star</td>\n",
       "    </tr>\n",
       "    <tr>\n",
       "      <th>48130</th>\n",
       "      <td>B01HJCN1UC</td>\n",
       "      <td>Four Stars. Five Stars. Durable and well made....</td>\n",
       "      <td>product</td>\n",
       "    </tr>\n",
       "    <tr>\n",
       "      <th>48131</th>\n",
       "      <td>B01HJCN55I</td>\n",
       "      <td>I really like the cable. Good cable. Worth.. G...</td>\n",
       "      <td>star</td>\n",
       "    </tr>\n",
       "    <tr>\n",
       "      <th>48132</th>\n",
       "      <td>B01HJH9IN6</td>\n",
       "      <td>Looked great, before crack.. Five Stars. Good ...</td>\n",
       "      <td>price</td>\n",
       "    </tr>\n",
       "  </tbody>\n",
       "</table>\n",
       "<p>48133 rows × 3 columns</p>\n",
       "</div>"
      ],
      "text/plain": [
       "      Product_name                                           prod_des keywords\n",
       "0       7508492919  Cute. I can't stop using this case!. Bling cut...     case\n",
       "1       7532385086  A waste of money!. One Star. htc evo cover. No...     star\n",
       "2       7887421268  Five Stars. plastic with suede. good deal. Thi...      fit\n",
       "3       8199900164                    item didn't work. Five Stars. I     star\n",
       "4       8288853439  Galaxy S4 Charger. Works Great.... GOOD BUY. L...    stars\n",
       "...            ...                                                ...      ...\n",
       "48128   B01HJBS5C2  (Hybrid Carbon Fiber) Charger and headphone ho...    phone\n",
       "48129   B01HJC7N4C  My first experience with VR, and it's a very p...     star\n",
       "48130   B01HJCN1UC  Four Stars. Five Stars. Durable and well made....  product\n",
       "48131   B01HJCN55I  I really like the cable. Good cable. Worth.. G...     star\n",
       "48132   B01HJH9IN6  Looked great, before crack.. Five Stars. Good ...    price\n",
       "\n",
       "[48133 rows x 3 columns]"
      ]
     },
     "execution_count": 86,
     "metadata": {},
     "output_type": "execute_result"
    }
   ],
   "source": [
    "max_ind = [np.argmax(i) for i in tfidfmat3.todense()]\n",
    "terms3 = vectorizer3.get_feature_names()\n",
    "doc_keywords = [terms3[i] for i in max_ind]\n",
    "df_tfidf_out3 = pd.DataFrame(data = {'Product_name': data['Product_name'],'prod_des':data['prod_des'],'keywords':doc_keywords})\n",
    "df_tfidf_out3"
   ]
  },
  {
   "cell_type": "code",
   "execution_count": 87,
   "metadata": {},
   "outputs": [
    {
     "data": {
      "text/html": [
       "<div>\n",
       "<style scoped>\n",
       "    .dataframe tbody tr th:only-of-type {\n",
       "        vertical-align: middle;\n",
       "    }\n",
       "\n",
       "    .dataframe tbody tr th {\n",
       "        vertical-align: top;\n",
       "    }\n",
       "\n",
       "    .dataframe thead th {\n",
       "        text-align: right;\n",
       "    }\n",
       "</style>\n",
       "<table border=\"1\" class=\"dataframe\">\n",
       "  <thead>\n",
       "    <tr style=\"text-align: right;\">\n",
       "      <th></th>\n",
       "      <th>Product_name</th>\n",
       "      <th>prod_des</th>\n",
       "      <th>keywords</th>\n",
       "    </tr>\n",
       "  </thead>\n",
       "  <tbody>\n",
       "    <tr>\n",
       "      <th>0</th>\n",
       "      <td>7508492919</td>\n",
       "      <td>Cute. I can't stop using this case!. Bling cut...</td>\n",
       "      <td>[iphone, phone, case]</td>\n",
       "    </tr>\n",
       "    <tr>\n",
       "      <th>1</th>\n",
       "      <td>7532385086</td>\n",
       "      <td>A waste of money!. One Star. htc evo cover. No...</td>\n",
       "      <td>[stars, product, star]</td>\n",
       "    </tr>\n",
       "    <tr>\n",
       "      <th>2</th>\n",
       "      <td>7887421268</td>\n",
       "      <td>Five Stars. plastic with suede. good deal. Thi...</td>\n",
       "      <td>[case, star, fit]</td>\n",
       "    </tr>\n",
       "    <tr>\n",
       "      <th>3</th>\n",
       "      <td>8199900164</td>\n",
       "      <td>item didn't work. Five Stars. I</td>\n",
       "      <td>[screen, stars, star]</td>\n",
       "    </tr>\n",
       "    <tr>\n",
       "      <th>4</th>\n",
       "      <td>8288853439</td>\n",
       "      <td>Galaxy S4 Charger. Works Great.... GOOD BUY. L...</td>\n",
       "      <td>[screen, star, stars]</td>\n",
       "    </tr>\n",
       "    <tr>\n",
       "      <th>...</th>\n",
       "      <td>...</td>\n",
       "      <td>...</td>\n",
       "      <td>...</td>\n",
       "    </tr>\n",
       "    <tr>\n",
       "      <th>48128</th>\n",
       "      <td>B01HJBS5C2</td>\n",
       "      <td>(Hybrid Carbon Fiber) Charger and headphone ho...</td>\n",
       "      <td>[stars, case, phone]</td>\n",
       "    </tr>\n",
       "    <tr>\n",
       "      <th>48129</th>\n",
       "      <td>B01HJC7N4C</td>\n",
       "      <td>My first experience with VR, and it's a very p...</td>\n",
       "      <td>[screen, stars, star]</td>\n",
       "    </tr>\n",
       "    <tr>\n",
       "      <th>48130</th>\n",
       "      <td>B01HJCN1UC</td>\n",
       "      <td>Four Stars. Five Stars. Durable and well made....</td>\n",
       "      <td>[star, stars, product]</td>\n",
       "    </tr>\n",
       "    <tr>\n",
       "      <th>48131</th>\n",
       "      <td>B01HJCN55I</td>\n",
       "      <td>I really like the cable. Good cable. Worth.. G...</td>\n",
       "      <td>[screen, stars, star]</td>\n",
       "    </tr>\n",
       "    <tr>\n",
       "      <th>48132</th>\n",
       "      <td>B01HJH9IN6</td>\n",
       "      <td>Looked great, before crack.. Five Stars. Good ...</td>\n",
       "      <td>[star, stars, price]</td>\n",
       "    </tr>\n",
       "  </tbody>\n",
       "</table>\n",
       "<p>48133 rows × 3 columns</p>\n",
       "</div>"
      ],
      "text/plain": [
       "      Product_name                                           prod_des  \\\n",
       "0       7508492919  Cute. I can't stop using this case!. Bling cut...   \n",
       "1       7532385086  A waste of money!. One Star. htc evo cover. No...   \n",
       "2       7887421268  Five Stars. plastic with suede. good deal. Thi...   \n",
       "3       8199900164                    item didn't work. Five Stars. I   \n",
       "4       8288853439  Galaxy S4 Charger. Works Great.... GOOD BUY. L...   \n",
       "...            ...                                                ...   \n",
       "48128   B01HJBS5C2  (Hybrid Carbon Fiber) Charger and headphone ho...   \n",
       "48129   B01HJC7N4C  My first experience with VR, and it's a very p...   \n",
       "48130   B01HJCN1UC  Four Stars. Five Stars. Durable and well made....   \n",
       "48131   B01HJCN55I  I really like the cable. Good cable. Worth.. G...   \n",
       "48132   B01HJH9IN6  Looked great, before crack.. Five Stars. Good ...   \n",
       "\n",
       "                     keywords  \n",
       "0       [iphone, phone, case]  \n",
       "1      [stars, product, star]  \n",
       "2           [case, star, fit]  \n",
       "3       [screen, stars, star]  \n",
       "4       [screen, star, stars]  \n",
       "...                       ...  \n",
       "48128    [stars, case, phone]  \n",
       "48129   [screen, stars, star]  \n",
       "48130  [star, stars, product]  \n",
       "48131   [screen, stars, star]  \n",
       "48132    [star, stars, price]  \n",
       "\n",
       "[48133 rows x 3 columns]"
      ]
     },
     "execution_count": 87,
     "metadata": {},
     "output_type": "execute_result"
    }
   ],
   "source": [
    "doc_multi_keywords = get_topn_multi_keywords(tfidfmat3,3,terms3)\n",
    "df_tfidf_out3 = pd.DataFrame(data = {'Product_name': data['Product_name'],'prod_des':data['prod_des'],'keywords':doc_multi_keywords})\n",
    "df_tfidf_out3"
   ]
  },
  {
   "cell_type": "code",
   "execution_count": 88,
   "metadata": {},
   "outputs": [
    {
     "data": {
      "text/plain": [
       "(48133, 40)"
      ]
     },
     "execution_count": 88,
     "metadata": {},
     "output_type": "execute_result"
    }
   ],
   "source": [
    "vectorizer4 = TfidfVectorizer(docs,lowercase = True, min_df = 0.05,max_df = 0.95,ngram_range=(1,2))\n",
    "tfidfmat4 = vectorizer4.fit_transform(docs)\n",
    "tfidfmat4.shape"
   ]
  },
  {
   "cell_type": "code",
   "execution_count": 89,
   "metadata": {},
   "outputs": [],
   "source": [
    "terms4 =  vectorizer4.get_feature_names()\n",
    "doc_multi_keywords4 = get_topn_multi_keywords(tfidfmat4,3,terms4)"
   ]
  },
  {
   "cell_type": "code",
   "execution_count": 90,
   "metadata": {},
   "outputs": [
    {
     "data": {
      "text/plain": [
       "['battery',\n",
       " 'buy',\n",
       " 'case',\n",
       " 'case case',\n",
       " 'case phone',\n",
       " 'case star',\n",
       " 'case stars',\n",
       " 'charge',\n",
       " 'charger',\n",
       " 'color']"
      ]
     },
     "execution_count": 90,
     "metadata": {},
     "output_type": "execute_result"
    }
   ],
   "source": [
    "terms4[:10]"
   ]
  },
  {
   "cell_type": "code",
   "execution_count": 91,
   "metadata": {},
   "outputs": [
    {
     "data": {
      "text/html": [
       "<div>\n",
       "<style scoped>\n",
       "    .dataframe tbody tr th:only-of-type {\n",
       "        vertical-align: middle;\n",
       "    }\n",
       "\n",
       "    .dataframe tbody tr th {\n",
       "        vertical-align: top;\n",
       "    }\n",
       "\n",
       "    .dataframe thead th {\n",
       "        text-align: right;\n",
       "    }\n",
       "</style>\n",
       "<table border=\"1\" class=\"dataframe\">\n",
       "  <thead>\n",
       "    <tr style=\"text-align: right;\">\n",
       "      <th></th>\n",
       "      <th>Product_name</th>\n",
       "      <th>prod_des</th>\n",
       "      <th>multi_keywords</th>\n",
       "    </tr>\n",
       "  </thead>\n",
       "  <tbody>\n",
       "    <tr>\n",
       "      <th>0</th>\n",
       "      <td>7508492919</td>\n",
       "      <td>Cute. I can't stop using this case!. Bling cut...</td>\n",
       "      <td>[phone, case case, case]</td>\n",
       "    </tr>\n",
       "    <tr>\n",
       "      <th>1</th>\n",
       "      <td>7532385086</td>\n",
       "      <td>A waste of money!. One Star. htc evo cover. No...</td>\n",
       "      <td>[product, star, money]</td>\n",
       "    </tr>\n",
       "    <tr>\n",
       "      <th>2</th>\n",
       "      <td>7887421268</td>\n",
       "      <td>Five Stars. plastic with suede. good deal. Thi...</td>\n",
       "      <td>[star, fit, protector]</td>\n",
       "    </tr>\n",
       "    <tr>\n",
       "      <th>3</th>\n",
       "      <td>8199900164</td>\n",
       "      <td>item didn't work. Five Stars. I</td>\n",
       "      <td>[color, star, item]</td>\n",
       "    </tr>\n",
       "    <tr>\n",
       "      <th>4</th>\n",
       "      <td>8288853439</td>\n",
       "      <td>Galaxy S4 Charger. Works Great.... GOOD BUY. L...</td>\n",
       "      <td>[buy, stars, charger]</td>\n",
       "    </tr>\n",
       "    <tr>\n",
       "      <th>...</th>\n",
       "      <td>...</td>\n",
       "      <td>...</td>\n",
       "      <td>...</td>\n",
       "    </tr>\n",
       "    <tr>\n",
       "      <th>48128</th>\n",
       "      <td>B01HJBS5C2</td>\n",
       "      <td>(Hybrid Carbon Fiber) Charger and headphone ho...</td>\n",
       "      <td>[charger, case, phone]</td>\n",
       "    </tr>\n",
       "    <tr>\n",
       "      <th>48129</th>\n",
       "      <td>B01HJC7N4C</td>\n",
       "      <td>My first experience with VR, and it's a very p...</td>\n",
       "      <td>[color, work, star]</td>\n",
       "    </tr>\n",
       "    <tr>\n",
       "      <th>48130</th>\n",
       "      <td>B01HJCN1UC</td>\n",
       "      <td>Four Stars. Five Stars. Durable and well made....</td>\n",
       "      <td>[star, stars, product]</td>\n",
       "    </tr>\n",
       "    <tr>\n",
       "      <th>48131</th>\n",
       "      <td>B01HJCN55I</td>\n",
       "      <td>I really like the cable. Good cable. Worth.. G...</td>\n",
       "      <td>[work, star, buy]</td>\n",
       "    </tr>\n",
       "    <tr>\n",
       "      <th>48132</th>\n",
       "      <td>B01HJH9IN6</td>\n",
       "      <td>Looked great, before crack.. Five Stars. Good ...</td>\n",
       "      <td>[price, money, cover]</td>\n",
       "    </tr>\n",
       "  </tbody>\n",
       "</table>\n",
       "<p>48133 rows × 3 columns</p>\n",
       "</div>"
      ],
      "text/plain": [
       "      Product_name                                           prod_des  \\\n",
       "0       7508492919  Cute. I can't stop using this case!. Bling cut...   \n",
       "1       7532385086  A waste of money!. One Star. htc evo cover. No...   \n",
       "2       7887421268  Five Stars. plastic with suede. good deal. Thi...   \n",
       "3       8199900164                    item didn't work. Five Stars. I   \n",
       "4       8288853439  Galaxy S4 Charger. Works Great.... GOOD BUY. L...   \n",
       "...            ...                                                ...   \n",
       "48128   B01HJBS5C2  (Hybrid Carbon Fiber) Charger and headphone ho...   \n",
       "48129   B01HJC7N4C  My first experience with VR, and it's a very p...   \n",
       "48130   B01HJCN1UC  Four Stars. Five Stars. Durable and well made....   \n",
       "48131   B01HJCN55I  I really like the cable. Good cable. Worth.. G...   \n",
       "48132   B01HJH9IN6  Looked great, before crack.. Five Stars. Good ...   \n",
       "\n",
       "                 multi_keywords  \n",
       "0      [phone, case case, case]  \n",
       "1        [product, star, money]  \n",
       "2        [star, fit, protector]  \n",
       "3           [color, star, item]  \n",
       "4         [buy, stars, charger]  \n",
       "...                         ...  \n",
       "48128    [charger, case, phone]  \n",
       "48129       [color, work, star]  \n",
       "48130    [star, stars, product]  \n",
       "48131         [work, star, buy]  \n",
       "48132     [price, money, cover]  \n",
       "\n",
       "[48133 rows x 3 columns]"
      ]
     },
     "execution_count": 91,
     "metadata": {},
     "output_type": "execute_result"
    }
   ],
   "source": [
    "df_tfidf_multi_out4 = pd.DataFrame(data = {'Product_name': data['Product_name'],'prod_des':data['prod_des'],'multi_keywords':doc_multi_keywords4})\n",
    "df_tfidf_multi_out4"
   ]
  },
  {
   "cell_type": "code",
   "execution_count": 92,
   "metadata": {},
   "outputs": [
    {
     "data": {
      "text/plain": [
       "(48133, 125)"
      ]
     },
     "execution_count": 92,
     "metadata": {},
     "output_type": "execute_result"
    }
   ],
   "source": [
    "vectorizer5 = TfidfVectorizer(docs,lowercase = True, min_df = 0.02,max_df = 0.95,ngram_range=(1,2))\n",
    "tfidfmat5 = vectorizer5.fit_transform(docs)\n",
    "tfidfmat5.shape"
   ]
  },
  {
   "cell_type": "code",
   "execution_count": 93,
   "metadata": {},
   "outputs": [],
   "source": [
    "terms5 =  vectorizer5.get_feature_names()\n",
    "doc_multi_keywords5 = get_topn_multi_keywords(tfidfmat5,3,terms5)"
   ]
  },
  {
   "cell_type": "code",
   "execution_count": 94,
   "metadata": {},
   "outputs": [
    {
     "data": {
      "text/html": [
       "<div>\n",
       "<style scoped>\n",
       "    .dataframe tbody tr th:only-of-type {\n",
       "        vertical-align: middle;\n",
       "    }\n",
       "\n",
       "    .dataframe tbody tr th {\n",
       "        vertical-align: top;\n",
       "    }\n",
       "\n",
       "    .dataframe thead th {\n",
       "        text-align: right;\n",
       "    }\n",
       "</style>\n",
       "<table border=\"1\" class=\"dataframe\">\n",
       "  <thead>\n",
       "    <tr style=\"text-align: right;\">\n",
       "      <th></th>\n",
       "      <th>Product_name</th>\n",
       "      <th>prod_des</th>\n",
       "      <th>multi_keywords</th>\n",
       "    </tr>\n",
       "  </thead>\n",
       "  <tbody>\n",
       "    <tr>\n",
       "      <th>0</th>\n",
       "      <td>7508492919</td>\n",
       "      <td>Cute. I can't stop using this case!. Bling cut...</td>\n",
       "      <td>[gift, case case, case]</td>\n",
       "    </tr>\n",
       "    <tr>\n",
       "      <th>1</th>\n",
       "      <td>7532385086</td>\n",
       "      <td>A waste of money!. One Star. htc evo cover. No...</td>\n",
       "      <td>[money, product star, waste]</td>\n",
       "    </tr>\n",
       "    <tr>\n",
       "      <th>2</th>\n",
       "      <td>7887421268</td>\n",
       "      <td>Five Stars. plastic with suede. good deal. Thi...</td>\n",
       "      <td>[deal, plastic, case fit]</td>\n",
       "    </tr>\n",
       "    <tr>\n",
       "      <th>3</th>\n",
       "      <td>8199900164</td>\n",
       "      <td>item didn't work. Five Stars. I</td>\n",
       "      <td>[year, star, item]</td>\n",
       "    </tr>\n",
       "    <tr>\n",
       "      <th>4</th>\n",
       "      <td>8288853439</td>\n",
       "      <td>Galaxy S4 Charger. Works Great.... GOOD BUY. L...</td>\n",
       "      <td>[buy, stars, charger]</td>\n",
       "    </tr>\n",
       "    <tr>\n",
       "      <th>...</th>\n",
       "      <td>...</td>\n",
       "      <td>...</td>\n",
       "      <td>...</td>\n",
       "    </tr>\n",
       "    <tr>\n",
       "      <th>48128</th>\n",
       "      <td>B01HJBS5C2</td>\n",
       "      <td>(Hybrid Carbon Fiber) Charger and headphone ho...</td>\n",
       "      <td>[phone phone, piece, clip]</td>\n",
       "    </tr>\n",
       "    <tr>\n",
       "      <th>48129</th>\n",
       "      <td>B01HJC7N4C</td>\n",
       "      <td>My first experience with VR, and it's a very p...</td>\n",
       "      <td>[year, star, device]</td>\n",
       "    </tr>\n",
       "    <tr>\n",
       "      <th>48130</th>\n",
       "      <td>B01HJCN1UC</td>\n",
       "      <td>Four Stars. Five Stars. Durable and well made....</td>\n",
       "      <td>[star stars, cord, cable]</td>\n",
       "    </tr>\n",
       "    <tr>\n",
       "      <th>48131</th>\n",
       "      <td>B01HJCN55I</td>\n",
       "      <td>I really like the cable. Good cable. Worth.. G...</td>\n",
       "      <td>[buy, star star, cable]</td>\n",
       "    </tr>\n",
       "    <tr>\n",
       "      <th>48132</th>\n",
       "      <td>B01HJH9IN6</td>\n",
       "      <td>Looked great, before crack.. Five Stars. Good ...</td>\n",
       "      <td>[price, money, cover]</td>\n",
       "    </tr>\n",
       "  </tbody>\n",
       "</table>\n",
       "<p>48133 rows × 3 columns</p>\n",
       "</div>"
      ],
      "text/plain": [
       "      Product_name                                           prod_des  \\\n",
       "0       7508492919  Cute. I can't stop using this case!. Bling cut...   \n",
       "1       7532385086  A waste of money!. One Star. htc evo cover. No...   \n",
       "2       7887421268  Five Stars. plastic with suede. good deal. Thi...   \n",
       "3       8199900164                    item didn't work. Five Stars. I   \n",
       "4       8288853439  Galaxy S4 Charger. Works Great.... GOOD BUY. L...   \n",
       "...            ...                                                ...   \n",
       "48128   B01HJBS5C2  (Hybrid Carbon Fiber) Charger and headphone ho...   \n",
       "48129   B01HJC7N4C  My first experience with VR, and it's a very p...   \n",
       "48130   B01HJCN1UC  Four Stars. Five Stars. Durable and well made....   \n",
       "48131   B01HJCN55I  I really like the cable. Good cable. Worth.. G...   \n",
       "48132   B01HJH9IN6  Looked great, before crack.. Five Stars. Good ...   \n",
       "\n",
       "                     multi_keywords  \n",
       "0           [gift, case case, case]  \n",
       "1      [money, product star, waste]  \n",
       "2         [deal, plastic, case fit]  \n",
       "3                [year, star, item]  \n",
       "4             [buy, stars, charger]  \n",
       "...                             ...  \n",
       "48128    [phone phone, piece, clip]  \n",
       "48129          [year, star, device]  \n",
       "48130     [star stars, cord, cable]  \n",
       "48131       [buy, star star, cable]  \n",
       "48132         [price, money, cover]  \n",
       "\n",
       "[48133 rows x 3 columns]"
      ]
     },
     "execution_count": 94,
     "metadata": {},
     "output_type": "execute_result"
    }
   ],
   "source": [
    "df_tfidf_multi_out5 = pd.DataFrame(data = {'Product_name': data['Product_name'],'prod_des':data['prod_des'],'multi_keywords':doc_multi_keywords5})\n",
    "df_tfidf_multi_out5"
   ]
  },
  {
   "cell_type": "code",
   "execution_count": 95,
   "metadata": {},
   "outputs": [],
   "source": [
    "def get_tuned_keywords(docs,min_df,max_df,ngram_range,no_of_keywords):\n",
    "    vectorizer5 = TfidfVectorizer(docs,lowercase = True, min_df =min_df,max_df = max_df,ngram_range=ngram_range)\n",
    "    tfidfmat5 = vectorizer5.fit_transform(docs)\n",
    "    print(\"Tfidf shape:\",tfidfmat5.shape)\n",
    "    terms5 =  vectorizer5.get_feature_names()\n",
    "    print(terms5)\n",
    "    doc_multi_keywords5 = get_topn_multi_keywords(tfidfmat5,no_of_keywords,terms5)\n",
    "    df_tfidf_multi_out5 = pd.DataFrame(data = {'Product_name': data['Product_name'],'prod_des':data['prod_des'],'multi_keywords':doc_multi_keywords5})\n",
    "    return(df_tfidf_multi_out5)"
   ]
  },
  {
   "cell_type": "code",
   "execution_count": 96,
   "metadata": {},
   "outputs": [
    {
     "name": "stdout",
     "output_type": "stream",
     "text": [
      "Tfidf shape: (48133, 128)\n",
      "['apple', 'awesome', 'battery', 'bit', 'brand', 'button', 'buy', 'cable', 'car', 'card', 'case', 'case case', 'case case case', 'case color', 'case fit', 'case iphone', 'case phone', 'case phone case', 'case price', 'case product', 'case protection', 'case quality', 'case star', 'case stars', 'cell', 'cell phone', 'charge', 'charger', 'clip', 'color', 'cord', 'cover', 'customer', 'customer service', 'day', 'deal', 'design', 'device', 'edge', 'excellent', 'feel', 'fit', 'galaxy', 'gift', 'glass', 'good', 'great', 'great case', 'great product', 'grip', 'hand', 'holder', 'idea', 'iphone', 'issue', 'item', 'job', 'junk', 'leather', 'lg', 'life', 'look', 'lot', 'love', 'material', 'money', 'month', 'nice', 'note', 'otterbox', 'perfect', 'phone', 'phone case', 'phone case case', 'phone phone', 'phone star', 'picture', 'piece', 'plastic', 'port', 'power', 'price', 'price case', 'price star', 'problem', 'product', 'product case', 'product price', 'product star', 'protection', 'protection case', 'protector', 'purchase', 'quality', 'quality case', 'quality product', 'replacement', 'review', 'samsung', 'samsung galaxy', 'screen', 'screen protector', 'seller', 'service', 'size', 'star', 'star case', 'star phone', 'star product', 'star star', 'star stars', 'stars', 'stars case', 'stars star', 'stars stars', 'thing', 'time', 'usb', 'use', 'value', 'wallet', 'waste', 'way', 'week', 'wife', 'work', 'works', 'year']\n"
     ]
    },
    {
     "data": {
      "text/html": [
       "<div>\n",
       "<style scoped>\n",
       "    .dataframe tbody tr th:only-of-type {\n",
       "        vertical-align: middle;\n",
       "    }\n",
       "\n",
       "    .dataframe tbody tr th {\n",
       "        vertical-align: top;\n",
       "    }\n",
       "\n",
       "    .dataframe thead th {\n",
       "        text-align: right;\n",
       "    }\n",
       "</style>\n",
       "<table border=\"1\" class=\"dataframe\">\n",
       "  <thead>\n",
       "    <tr style=\"text-align: right;\">\n",
       "      <th></th>\n",
       "      <th>Product_name</th>\n",
       "      <th>prod_des</th>\n",
       "      <th>multi_keywords</th>\n",
       "    </tr>\n",
       "  </thead>\n",
       "  <tbody>\n",
       "    <tr>\n",
       "      <th>0</th>\n",
       "      <td>7508492919</td>\n",
       "      <td>Cute. I can't stop using this case!. Bling cut...</td>\n",
       "      <td>[phone, case case case, plastic, price case, g...</td>\n",
       "    </tr>\n",
       "    <tr>\n",
       "      <th>1</th>\n",
       "      <td>7532385086</td>\n",
       "      <td>A waste of money!. One Star. htc evo cover. No...</td>\n",
       "      <td>[edge, year, product, star, money, product sta...</td>\n",
       "    </tr>\n",
       "    <tr>\n",
       "      <th>2</th>\n",
       "      <td>7887421268</td>\n",
       "      <td>Five Stars. plastic with suede. good deal. Thi...</td>\n",
       "      <td>[star, fit, protector, star stars, deal, plast...</td>\n",
       "    </tr>\n",
       "    <tr>\n",
       "      <th>3</th>\n",
       "      <td>8199900164</td>\n",
       "      <td>item didn't work. Five Stars. I</td>\n",
       "      <td>[deal, day, customer service, good, year, star...</td>\n",
       "    </tr>\n",
       "    <tr>\n",
       "      <th>4</th>\n",
       "      <td>8288853439</td>\n",
       "      <td>Galaxy S4 Charger. Works Great.... GOOD BUY. L...</td>\n",
       "      <td>[feel, year, stars stars, galaxy, buy, stars, ...</td>\n",
       "    </tr>\n",
       "    <tr>\n",
       "      <th>...</th>\n",
       "      <td>...</td>\n",
       "      <td>...</td>\n",
       "      <td>...</td>\n",
       "    </tr>\n",
       "    <tr>\n",
       "      <th>48128</th>\n",
       "      <td>B01HJBS5C2</td>\n",
       "      <td>(Hybrid Carbon Fiber) Charger and headphone ho...</td>\n",
       "      <td>[case, month, phone, stars star, phone phone, ...</td>\n",
       "    </tr>\n",
       "    <tr>\n",
       "      <th>48129</th>\n",
       "      <td>B01HJC7N4C</td>\n",
       "      <td>My first experience with VR, and it's a very p...</td>\n",
       "      <td>[deal, day, customer service, cover, year, sta...</td>\n",
       "    </tr>\n",
       "    <tr>\n",
       "      <th>48130</th>\n",
       "      <td>B01HJCN1UC</td>\n",
       "      <td>Four Stars. Five Stars. Durable and well made....</td>\n",
       "      <td>[leather, star, stars, product, star stars, co...</td>\n",
       "    </tr>\n",
       "    <tr>\n",
       "      <th>48131</th>\n",
       "      <td>B01HJCN55I</td>\n",
       "      <td>I really like the cable. Good cable. Worth.. G...</td>\n",
       "      <td>[good, fit, year, star, buy, star star, cable]</td>\n",
       "    </tr>\n",
       "    <tr>\n",
       "      <th>48132</th>\n",
       "      <td>B01HJH9IN6</td>\n",
       "      <td>Looked great, before crack.. Five Stars. Good ...</td>\n",
       "      <td>[design, deal, day, stars, price, money, cover]</td>\n",
       "    </tr>\n",
       "  </tbody>\n",
       "</table>\n",
       "<p>48133 rows × 3 columns</p>\n",
       "</div>"
      ],
      "text/plain": [
       "      Product_name                                           prod_des  \\\n",
       "0       7508492919  Cute. I can't stop using this case!. Bling cut...   \n",
       "1       7532385086  A waste of money!. One Star. htc evo cover. No...   \n",
       "2       7887421268  Five Stars. plastic with suede. good deal. Thi...   \n",
       "3       8199900164                    item didn't work. Five Stars. I   \n",
       "4       8288853439  Galaxy S4 Charger. Works Great.... GOOD BUY. L...   \n",
       "...            ...                                                ...   \n",
       "48128   B01HJBS5C2  (Hybrid Carbon Fiber) Charger and headphone ho...   \n",
       "48129   B01HJC7N4C  My first experience with VR, and it's a very p...   \n",
       "48130   B01HJCN1UC  Four Stars. Five Stars. Durable and well made....   \n",
       "48131   B01HJCN55I  I really like the cable. Good cable. Worth.. G...   \n",
       "48132   B01HJH9IN6  Looked great, before crack.. Five Stars. Good ...   \n",
       "\n",
       "                                          multi_keywords  \n",
       "0      [phone, case case case, plastic, price case, g...  \n",
       "1      [edge, year, product, star, money, product sta...  \n",
       "2      [star, fit, protector, star stars, deal, plast...  \n",
       "3      [deal, day, customer service, good, year, star...  \n",
       "4      [feel, year, stars stars, galaxy, buy, stars, ...  \n",
       "...                                                  ...  \n",
       "48128  [case, month, phone, stars star, phone phone, ...  \n",
       "48129  [deal, day, customer service, cover, year, sta...  \n",
       "48130  [leather, star, stars, product, star stars, co...  \n",
       "48131     [good, fit, year, star, buy, star star, cable]  \n",
       "48132    [design, deal, day, stars, price, money, cover]  \n",
       "\n",
       "[48133 rows x 3 columns]"
      ]
     },
     "execution_count": 96,
     "metadata": {},
     "output_type": "execute_result"
    }
   ],
   "source": [
    "final_out_task1_df = get_tuned_keywords(docs,0.02,0.95,(1,3),7)\n",
    "final_out_task1_df"
   ]
  },
  {
   "cell_type": "code",
   "execution_count": 97,
   "metadata": {},
   "outputs": [],
   "source": [
    "final_out_task1_df.to_csv('final_out_task1_df.csv',index=False)"
   ]
  },
  {
   "cell_type": "code",
   "execution_count": 98,
   "metadata": {},
   "outputs": [
    {
     "name": "stdout",
     "output_type": "stream",
     "text": [
      "Original PDP:\n",
      " Four Stars. Five Stars. Durable and well made. Decent!. Good product. Highly recommend!. but the nylon makes it less flexible than I would have liked.. It Works. It Really Works.. Pretty blue cord. Nice thick cable. thanks for a great cord.... very long cable cord. Keeps my electronics ready for action.. Best of the Best. The cable is perfect. It showed up as promised and is exactly .... Good cable great length.\n",
      "After POS:\n",
      " star Stars product nylon cord cable thank cord cable cord electronics action cable cable length\n",
      "Final Keywords:\n",
      " ['leather', 'star', 'stars', 'product', 'star stars', 'cord', 'cable']\n"
     ]
    }
   ],
   "source": [
    "i=48130\n",
    "print(\"Original PDP:\\n\",data['prod_des'][i])\n",
    "print(\"After POS:\\n\",docs[i])\n",
    "print(\"Final Keywords:\\n\",final_out_task1_df['multi_keywords'][i])"
   ]
  },
  {
   "cell_type": "code",
   "execution_count": 99,
   "metadata": {},
   "outputs": [
    {
     "name": "stdout",
     "output_type": "stream",
     "text": [
      "Original PDP:\n",
      " Not for 4s -- and also leaves gooey film after removal. This is a great screen protector. Bubble free?! I never thought I would see my phone without bubbles!. Best Screen Protector Out There\n",
      "\n",
      "ct:4s\n",
      "crt:4s\n",
      "crd:pobj\n",
      "crh:for\n",
      "\n",
      "\n",
      "ct:gooey film\n",
      "crt:film\n",
      "crd:dobj\n",
      "crh:leaves\n",
      "\n",
      "\n",
      "ct:removal\n",
      "crt:removal\n",
      "crd:pobj\n",
      "crh:after\n",
      "\n",
      "\n",
      "ct:a great screen protector\n",
      "crt:protector\n",
      "crd:attr\n",
      "crh:is\n",
      "\n",
      "\n",
      "ct:Bubble\n",
      "crt:Bubble\n",
      "crd:nsubj\n",
      "crh:free\n",
      "\n",
      "\n",
      "ct:I\n",
      "crt:I\n",
      "crd:nsubj\n",
      "crh:thought\n",
      "\n",
      "\n",
      "ct:I\n",
      "crt:I\n",
      "crd:nsubj\n",
      "crh:see\n",
      "\n",
      "\n",
      "ct:my phone\n",
      "crt:phone\n",
      "crd:dobj\n",
      "crh:see\n",
      "\n",
      "\n",
      "ct:bubbles\n",
      "crt:bubbles\n",
      "crd:pobj\n",
      "crh:without\n",
      "\n",
      "\n",
      "ct:Best Screen Protector\n",
      "crt:Protector\n",
      "crd:ROOT\n",
      "crh:Protector\n",
      "\n",
      "\n"
     ]
    }
   ],
   "source": [
    "i = 2222\n",
    "print(\"Original PDP:\\n\",data['prod_des'][i]+\"\\n\")\n",
    "doc = nlp(data['prod_des'][i])\n",
    "for chunk in doc.noun_chunks:\n",
    "    print(\"ct:\"+chunk.text+\"\\ncrt:\"+ chunk.root.text+\"\\ncrd:\"+ chunk.root.dep_+\n",
    "            \"\\ncrh:\"+chunk.root.head.text+\"\\n\\n\")"
   ]
  },
  {
   "cell_type": "code",
   "execution_count": 100,
   "metadata": {},
   "outputs": [
    {
     "name": "stdout",
     "output_type": "stream",
     "text": [
      "['4s', 'gooey film', 'removal', 'a great screen protector', 'bubble', 'i', 'i', 'my phone', 'bubbles', 'best screen protector']\n",
      "['4s', 'film', 'removal', 'protector', 'bubble', 'i', 'i', 'phone', 'bubbles', 'protector']\n",
      "['edge', 'year', 'product', 'star', 'money', 'product star', 'waste']\n"
     ]
    }
   ],
   "source": [
    "chunk_text = [i.text.lower() for i in doc.noun_chunks]\n",
    "chunk_root_text = [i.root.text.lower() for i in doc.noun_chunks]\n",
    "print(chunk_text)\n",
    "print(chunk_root_text)\n",
    "l = chunk_text\n",
    "lst_kw = final_out_task1_df['multi_keywords'][1]\n",
    "print(lst_kw)"
   ]
  },
  {
   "cell_type": "code",
   "execution_count": 101,
   "metadata": {},
   "outputs": [],
   "source": [
    "def match(lst_kw,lst_crt_ct):\n",
    "    l = []\n",
    "    for i in lst_kw:\n",
    "        for j in lst_crt_ct:\n",
    "            if i in j.split():\n",
    "              #print(i,\":\",j)\n",
    "              l.append(j)\n",
    "    return list(set(l))"
   ]
  },
  {
   "cell_type": "code",
   "execution_count": 102,
   "metadata": {},
   "outputs": [],
   "source": [
    "prod_des_lst = [i for i in final_out_task1_df['prod_des']]\n",
    "def extract_ksp(col1,col2):\n",
    "    lst_keywords = col1\n",
    "    prod_des = col2\n",
    "    doc = nlp(prod_des)\n",
    "    lst_chunk_text = [i.text.lower() for i in doc.noun_chunks]\n",
    "    lst_chunk_text.extend([i.root.text.lower() for i in doc.noun_chunks])\n",
    "    return(match(lst_keywords,lst_chunk_text))"
   ]
  },
  {
   "cell_type": "code",
   "execution_count": 103,
   "metadata": {},
   "outputs": [],
   "source": [
    "out = final_out_task1_df.apply(lambda x: extract_ksp(x.multi_keywords,x.prod_des),axis = 1)"
   ]
  },
  {
   "cell_type": "code",
   "execution_count": 104,
   "metadata": {},
   "outputs": [],
   "source": [
    "df_ksp= pd.DataFrame(data = {'IC': data['Product_name'],'Rev_summ':data['prod_des'],'keywords':final_out_task1_df['multi_keywords'],'summary':out})\n",
    "df_ksp.to_csv('final_out.csv',index=False)"
   ]
  },
  {
   "cell_type": "code",
   "execution_count": 105,
   "metadata": {},
   "outputs": [],
   "source": [
    "df_ksp.to_csv('df_ksp.csv',index=False)"
   ]
  },
  {
   "cell_type": "code",
   "execution_count": 106,
   "metadata": {},
   "outputs": [
    {
     "data": {
      "text/plain": [
       "48133"
      ]
     },
     "execution_count": 106,
     "metadata": {},
     "output_type": "execute_result"
    }
   ],
   "source": [
    "len(df_ksp)"
   ]
  },
  {
   "cell_type": "code",
   "execution_count": 107,
   "metadata": {},
   "outputs": [
    {
     "name": "stdout",
     "output_type": "stream",
     "text": [
      "Product_name\n",
      " B01EMY6G2U\n",
      "Original PDP:\n",
      " Works and doesnt damage the mask.. Fits my 1st generation Gear VR. Total false advertising..too small. Definitely a keeper\n",
      "After POS:\n",
      " work mask generation advertising keeper Gear vr\n",
      "Apppropriate Keywords:\n",
      " ['design', 'deal', 'day', 'customer service', 'great', 'year', 'work']\n",
      "Summary:\n",
      " []\n"
     ]
    }
   ],
   "source": [
    "import random\n",
    "n = np.random.randint(0, len(df_ksp), 1)\n",
    "i =45793 # n[0]\n",
    "print(\"Product_name\\n\",df_ksp['IC'][i])\n",
    "print(\"Original PDP:\\n\",df_ksp['Rev_summ'][i])\n",
    "print(\"After POS:\\n\",docs[i])\n",
    "print(\"Apppropriate Keywords:\\n\",df_ksp['keywords'][i])\n",
    "print(\"Summary:\\n\",df_ksp['summary'][i])"
   ]
  },
  {
   "cell_type": "code",
   "execution_count": 108,
   "metadata": {},
   "outputs": [
    {
     "name": "stdout",
     "output_type": "stream",
     "text": [
      "(48133, 4)\n",
      "(48133, 10)\n"
     ]
    }
   ],
   "source": [
    "print(df_ksp.shape)\n",
    "print(df_rating_data.shape)"
   ]
  },
  {
   "cell_type": "code",
   "execution_count": 109,
   "metadata": {},
   "outputs": [],
   "source": [
    "df_final = df_ksp.merge(df_rating_data,on='IC',how='inner')"
   ]
  },
  {
   "cell_type": "code",
   "execution_count": 110,
   "metadata": {},
   "outputs": [
    {
     "data": {
      "text/html": [
       "<div>\n",
       "<style scoped>\n",
       "    .dataframe tbody tr th:only-of-type {\n",
       "        vertical-align: middle;\n",
       "    }\n",
       "\n",
       "    .dataframe tbody tr th {\n",
       "        vertical-align: top;\n",
       "    }\n",
       "\n",
       "    .dataframe thead th {\n",
       "        text-align: right;\n",
       "    }\n",
       "</style>\n",
       "<table border=\"1\" class=\"dataframe\">\n",
       "  <thead>\n",
       "    <tr style=\"text-align: right;\">\n",
       "      <th></th>\n",
       "      <th>IC</th>\n",
       "      <th>Rev_summ</th>\n",
       "      <th>keywords</th>\n",
       "      <th>summary</th>\n",
       "      <th>Total rating</th>\n",
       "      <th>Average rating</th>\n",
       "      <th>Maximum rating</th>\n",
       "      <th>Minimum rating</th>\n",
       "      <th>1 star ratings</th>\n",
       "      <th>2 star ratings</th>\n",
       "      <th>3 star ratings</th>\n",
       "      <th>4 star ratings</th>\n",
       "      <th>5 star ratings</th>\n",
       "    </tr>\n",
       "  </thead>\n",
       "  <tbody>\n",
       "    <tr>\n",
       "      <th>7410</th>\n",
       "      <td>B0093VGQY6</td>\n",
       "      <td>Good Basic Protection, Fits well. iPhone cover...</td>\n",
       "      <td>[iphone, protector, screen protector, fit, pro...</td>\n",
       "      <td>[case, the price, iphone, the screen protector...</td>\n",
       "      <td>46</td>\n",
       "      <td>3.76</td>\n",
       "      <td>5</td>\n",
       "      <td>1</td>\n",
       "      <td>1</td>\n",
       "      <td>7</td>\n",
       "      <td>9</td>\n",
       "      <td>14</td>\n",
       "      <td>15</td>\n",
       "    </tr>\n",
       "    <tr>\n",
       "      <th>32923</th>\n",
       "      <td>B00XBHEDBG</td>\n",
       "      <td>Five Stars. Great screen replacement. Perfect!...</td>\n",
       "      <td>[life, price, battery, quality, replacement, p...</td>\n",
       "      <td>[quality, product, life, great screen replacem...</td>\n",
       "      <td>56</td>\n",
       "      <td>3.98</td>\n",
       "      <td>5</td>\n",
       "      <td>1</td>\n",
       "      <td>7</td>\n",
       "      <td>5</td>\n",
       "      <td>3</td>\n",
       "      <td>8</td>\n",
       "      <td>33</td>\n",
       "    </tr>\n",
       "    <tr>\n",
       "      <th>25249</th>\n",
       "      <td>B00NVDYB2G</td>\n",
       "      <td>Five Stars. Two Stars. Was able to successfull...</td>\n",
       "      <td>[feel, year, stars stars, stars, good, power, ...</td>\n",
       "      <td>[five stars, two stars, the power button, butt...</td>\n",
       "      <td>7</td>\n",
       "      <td>4.43</td>\n",
       "      <td>5</td>\n",
       "      <td>2</td>\n",
       "      <td>0</td>\n",
       "      <td>1</td>\n",
       "      <td>0</td>\n",
       "      <td>1</td>\n",
       "      <td>5</td>\n",
       "    </tr>\n",
       "    <tr>\n",
       "      <th>35117</th>\n",
       "      <td>B010P5NZC4</td>\n",
       "      <td>The quality of this product is very good, of c...</td>\n",
       "      <td>[work, value, deal, lot, card, quality product...</td>\n",
       "      <td>[sim card, deal, product, card, great deal, go...</td>\n",
       "      <td>25</td>\n",
       "      <td>4.72</td>\n",
       "      <td>5</td>\n",
       "      <td>3</td>\n",
       "      <td>0</td>\n",
       "      <td>0</td>\n",
       "      <td>2</td>\n",
       "      <td>3</td>\n",
       "      <td>20</td>\n",
       "    </tr>\n",
       "    <tr>\n",
       "      <th>37158</th>\n",
       "      <td>B014DSIUTW</td>\n",
       "      <td>Great Product. This Case Is So Cute.. Not an e...</td>\n",
       "      <td>[gift, glass, product, case case, great, case,...</td>\n",
       "      <td>[case, product, this case, great product, not ...</td>\n",
       "      <td>3</td>\n",
       "      <td>4.67</td>\n",
       "      <td>5</td>\n",
       "      <td>4</td>\n",
       "      <td>0</td>\n",
       "      <td>0</td>\n",
       "      <td>0</td>\n",
       "      <td>1</td>\n",
       "      <td>2</td>\n",
       "    </tr>\n",
       "    <tr>\n",
       "      <th>2808</th>\n",
       "      <td>B004WKJ7YO</td>\n",
       "      <td>phone os perfect but the charger was terrible....</td>\n",
       "      <td>[star, charger, battery, issue, life, phone ph...</td>\n",
       "      <td>[phone, this phone, the battery life, life, gr...</td>\n",
       "      <td>10</td>\n",
       "      <td>2.00</td>\n",
       "      <td>5</td>\n",
       "      <td>1</td>\n",
       "      <td>7</td>\n",
       "      <td>0</td>\n",
       "      <td>1</td>\n",
       "      <td>0</td>\n",
       "      <td>2</td>\n",
       "    </tr>\n",
       "    <tr>\n",
       "      <th>23544</th>\n",
       "      <td>B00MWI4JNM</td>\n",
       "      <td>Almost a Great Phone.  Never missed my Samsung...</td>\n",
       "      <td>[battery, star phone, hand, quality, price, ph...</td>\n",
       "      <td>[almost a great phone, great quality, good pho...</td>\n",
       "      <td>46</td>\n",
       "      <td>4.70</td>\n",
       "      <td>5</td>\n",
       "      <td>3</td>\n",
       "      <td>0</td>\n",
       "      <td>0</td>\n",
       "      <td>2</td>\n",
       "      <td>10</td>\n",
       "      <td>34</td>\n",
       "    </tr>\n",
       "    <tr>\n",
       "      <th>33259</th>\n",
       "      <td>B00XUBZIJ4</td>\n",
       "      <td>Overall Good. This is my full review of this c...</td>\n",
       "      <td>[galaxy, gift, glass, excellent, year, case, r...</td>\n",
       "      <td>[case, review, my full review, this case]</td>\n",
       "      <td>2</td>\n",
       "      <td>3.50</td>\n",
       "      <td>5</td>\n",
       "      <td>2</td>\n",
       "      <td>0</td>\n",
       "      <td>1</td>\n",
       "      <td>0</td>\n",
       "      <td>0</td>\n",
       "      <td>1</td>\n",
       "    </tr>\n",
       "    <tr>\n",
       "      <th>42193</th>\n",
       "      <td>B01AOCXQMM</td>\n",
       "      <td>Five Stars. While the grip it gives my phone i...</td>\n",
       "      <td>[star, case, quality, phone case, case phone, ...</td>\n",
       "      <td>[case, phone, quality, the clear case, the gri...</td>\n",
       "      <td>9</td>\n",
       "      <td>3.89</td>\n",
       "      <td>5</td>\n",
       "      <td>1</td>\n",
       "      <td>1</td>\n",
       "      <td>0</td>\n",
       "      <td>2</td>\n",
       "      <td>2</td>\n",
       "      <td>4</td>\n",
       "    </tr>\n",
       "    <tr>\n",
       "      <th>19684</th>\n",
       "      <td>B00JRGOKQ8</td>\n",
       "      <td>Great!. Works great. Five Stars. Four Stars. B...</td>\n",
       "      <td>[phone phone, product, star, year, price, phon...</td>\n",
       "      <td>[phone, product, real 1 year review, a thick p...</td>\n",
       "      <td>66</td>\n",
       "      <td>4.27</td>\n",
       "      <td>5</td>\n",
       "      <td>1</td>\n",
       "      <td>2</td>\n",
       "      <td>5</td>\n",
       "      <td>7</td>\n",
       "      <td>11</td>\n",
       "      <td>41</td>\n",
       "    </tr>\n",
       "  </tbody>\n",
       "</table>\n",
       "</div>"
      ],
      "text/plain": [
       "               IC                                           Rev_summ  \\\n",
       "7410   B0093VGQY6  Good Basic Protection, Fits well. iPhone cover...   \n",
       "32923  B00XBHEDBG  Five Stars. Great screen replacement. Perfect!...   \n",
       "25249  B00NVDYB2G  Five Stars. Two Stars. Was able to successfull...   \n",
       "35117  B010P5NZC4  The quality of this product is very good, of c...   \n",
       "37158  B014DSIUTW  Great Product. This Case Is So Cute.. Not an e...   \n",
       "2808   B004WKJ7YO  phone os perfect but the charger was terrible....   \n",
       "23544  B00MWI4JNM  Almost a Great Phone.  Never missed my Samsung...   \n",
       "33259  B00XUBZIJ4  Overall Good. This is my full review of this c...   \n",
       "42193  B01AOCXQMM  Five Stars. While the grip it gives my phone i...   \n",
       "19684  B00JRGOKQ8  Great!. Works great. Five Stars. Four Stars. B...   \n",
       "\n",
       "                                                keywords  \\\n",
       "7410   [iphone, protector, screen protector, fit, pro...   \n",
       "32923  [life, price, battery, quality, replacement, p...   \n",
       "25249  [feel, year, stars stars, stars, good, power, ...   \n",
       "35117  [work, value, deal, lot, card, quality product...   \n",
       "37158  [gift, glass, product, case case, great, case,...   \n",
       "2808   [star, charger, battery, issue, life, phone ph...   \n",
       "23544  [battery, star phone, hand, quality, price, ph...   \n",
       "33259  [galaxy, gift, glass, excellent, year, case, r...   \n",
       "42193  [star, case, quality, phone case, case phone, ...   \n",
       "19684  [phone phone, product, star, year, price, phon...   \n",
       "\n",
       "                                                 summary  Total rating  \\\n",
       "7410   [case, the price, iphone, the screen protector...            46   \n",
       "32923  [quality, product, life, great screen replacem...            56   \n",
       "25249  [five stars, two stars, the power button, butt...             7   \n",
       "35117  [sim card, deal, product, card, great deal, go...            25   \n",
       "37158  [case, product, this case, great product, not ...             3   \n",
       "2808   [phone, this phone, the battery life, life, gr...            10   \n",
       "23544  [almost a great phone, great quality, good pho...            46   \n",
       "33259          [case, review, my full review, this case]             2   \n",
       "42193  [case, phone, quality, the clear case, the gri...             9   \n",
       "19684  [phone, product, real 1 year review, a thick p...            66   \n",
       "\n",
       "       Average rating  Maximum rating  Minimum rating  1 star ratings  \\\n",
       "7410             3.76               5               1               1   \n",
       "32923            3.98               5               1               7   \n",
       "25249            4.43               5               2               0   \n",
       "35117            4.72               5               3               0   \n",
       "37158            4.67               5               4               0   \n",
       "2808             2.00               5               1               7   \n",
       "23544            4.70               5               3               0   \n",
       "33259            3.50               5               2               0   \n",
       "42193            3.89               5               1               1   \n",
       "19684            4.27               5               1               2   \n",
       "\n",
       "       2 star ratings  3 star ratings  4 star ratings  5 star ratings  \n",
       "7410                7               9              14              15  \n",
       "32923               5               3               8              33  \n",
       "25249               1               0               1               5  \n",
       "35117               0               2               3              20  \n",
       "37158               0               0               1               2  \n",
       "2808                0               1               0               2  \n",
       "23544               0               2              10              34  \n",
       "33259               1               0               0               1  \n",
       "42193               0               2               2               4  \n",
       "19684               5               7              11              41  "
      ]
     },
     "execution_count": 110,
     "metadata": {},
     "output_type": "execute_result"
    }
   ],
   "source": [
    "df_final.sample(10)"
   ]
  },
  {
   "cell_type": "code",
   "execution_count": 111,
   "metadata": {},
   "outputs": [],
   "source": [
    "df_final.to_json('Customer_review_summarization.json')"
   ]
  }
 ],
 "metadata": {
  "kernelspec": {
   "display_name": "Python 3",
   "language": "python",
   "name": "python3"
  }
 },
 "nbformat": 4,
 "nbformat_minor": 4
}
