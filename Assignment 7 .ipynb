{
 "cells": [
  {
   "cell_type": "markdown",
   "metadata": {},
   "source": [
    "# Word Embeding"
   ]
  },
  {
   "cell_type": "code",
   "execution_count": 1,
   "metadata": {},
   "outputs": [
    {
     "name": "stdout",
     "output_type": "stream",
     "text": [
      "Collecting gensim\n",
      "  Downloading gensim-3.8.3-cp37-cp37m-win_amd64.whl (24.2 MB)\n",
      "Collecting smart-open>=1.8.1\n",
      "  Downloading smart_open-2.1.0.tar.gz (116 kB)\n",
      "Requirement already satisfied: six>=1.5.0 in c:\\users\\rajshree\\anaconda3\\envs\\tensorflow\\lib\\site-packages (from gensim) (1.15.0)\n",
      "Collecting Cython==0.29.14\n",
      "  Downloading Cython-0.29.14-cp37-cp37m-win_amd64.whl (1.7 MB)\n",
      "Requirement already satisfied: numpy>=1.11.3 in c:\\users\\rajshree\\anaconda3\\envs\\tensorflow\\lib\\site-packages (from gensim) (1.19.1)\n",
      "Requirement already satisfied: scipy>=0.18.1 in c:\\users\\rajshree\\anaconda3\\envs\\tensorflow\\lib\\site-packages (from gensim) (1.5.0)\n",
      "Requirement already satisfied: requests in c:\\users\\rajshree\\anaconda3\\envs\\tensorflow\\lib\\site-packages (from smart-open>=1.8.1->gensim) (2.24.0)\n",
      "Collecting boto\n",
      "  Downloading boto-2.49.0-py2.py3-none-any.whl (1.4 MB)\n",
      "Collecting boto3\n",
      "  Downloading boto3-1.14.48.tar.gz (97 kB)\n",
      "Requirement already satisfied: certifi>=2017.4.17 in c:\\users\\rajshree\\anaconda3\\envs\\tensorflow\\lib\\site-packages (from requests->smart-open>=1.8.1->gensim) (2020.6.20)\n",
      "Requirement already satisfied: idna<3,>=2.5 in c:\\users\\rajshree\\anaconda3\\envs\\tensorflow\\lib\\site-packages (from requests->smart-open>=1.8.1->gensim) (2.10)\n",
      "Requirement already satisfied: chardet<4,>=3.0.2 in c:\\users\\rajshree\\anaconda3\\envs\\tensorflow\\lib\\site-packages (from requests->smart-open>=1.8.1->gensim) (3.0.4)\n",
      "Requirement already satisfied: urllib3!=1.25.0,!=1.25.1,<1.26,>=1.21.1 in c:\\users\\rajshree\\anaconda3\\envs\\tensorflow\\lib\\site-packages (from requests->smart-open>=1.8.1->gensim) (1.25.9)\n",
      "Collecting botocore<1.18.0,>=1.17.48\n",
      "  Downloading botocore-1.17.48-py2.py3-none-any.whl (6.5 MB)\n",
      "Collecting jmespath<1.0.0,>=0.7.1\n",
      "  Downloading jmespath-0.10.0-py2.py3-none-any.whl (24 kB)\n",
      "Collecting s3transfer<0.4.0,>=0.3.0\n",
      "  Downloading s3transfer-0.3.3-py2.py3-none-any.whl (69 kB)\n",
      "Collecting docutils<0.16,>=0.10\n",
      "  Downloading docutils-0.15.2-py3-none-any.whl (547 kB)\n",
      "Requirement already satisfied: python-dateutil<3.0.0,>=2.1 in c:\\users\\rajshree\\anaconda3\\envs\\tensorflow\\lib\\site-packages (from botocore<1.18.0,>=1.17.48->boto3->smart-open>=1.8.1->gensim) (2.8.1)\n",
      "Building wheels for collected packages: smart-open, boto3\n",
      "  Building wheel for smart-open (setup.py): started\n",
      "  Building wheel for smart-open (setup.py): finished with status 'done'\n",
      "  Created wheel for smart-open: filename=smart_open-2.1.0-py3-none-any.whl size=110324 sha256=56db8e5b9f35e608fa7ffc0d5ef6159383770cebec930521f80bfaad0dd728ef\n",
      "  Stored in directory: c:\\users\\rajshree\\appdata\\local\\pip\\cache\\wheels\\56\\b5\\6d\\86dbe4f29d4688e5163a8b8c6b740494310040286fca4dc648\n",
      "  Building wheel for boto3 (setup.py): started\n",
      "  Building wheel for boto3 (setup.py): finished with status 'done'\n",
      "  Created wheel for boto3: filename=boto3-1.14.48-py2.py3-none-any.whl size=127855 sha256=8d58b82a01aa234983bad3dd8c52fed727e4f0d6ecf891d08cae7bb153a40b6c\n",
      "  Stored in directory: c:\\users\\rajshree\\appdata\\local\\pip\\cache\\wheels\\b0\\f8\\d9\\d2a816eb3b5fed353cf3e7746d2c3bd0cac694045d063a2b53\n",
      "Successfully built smart-open boto3\n",
      "Installing collected packages: boto, docutils, jmespath, botocore, s3transfer, boto3, smart-open, Cython, gensim\n",
      "Successfully installed Cython-0.29.14 boto-2.49.0 boto3-1.14.48 botocore-1.17.48 docutils-0.15.2 gensim-3.8.3 jmespath-0.10.0 s3transfer-0.3.3 smart-open-2.1.0\n"
     ]
    }
   ],
   "source": [
    "!pip install gensim"
   ]
  },
  {
   "cell_type": "code",
   "execution_count": 2,
   "metadata": {},
   "outputs": [],
   "source": [
    "import nltk\n",
    "\n",
    "from gensim.models import Word2Vec\n",
    "from nltk.corpus import stopwords\n",
    "import matplotlib.pyplot as plt\n",
    "import re\n",
    "import string\n",
    "from nltk.tokenize import word_tokenize,sent_tokenize\n",
    "from nltk.corpus import stopwords\n",
    "from nltk.stem import WordNetLemmatizer\n",
    "import random \n",
    "import pprint"
   ]
  },
  {
   "cell_type": "code",
   "execution_count": 14,
   "metadata": {},
   "outputs": [],
   "source": [
    "myfile = open(r\"Assignment 7.txt\",encoding='utf-8')\n",
    "document = myfile.read()"
   ]
  },
  {
   "cell_type": "code",
   "execution_count": 15,
   "metadata": {},
   "outputs": [],
   "source": [
    "#Converting data to lower text\n",
    "document_lower = document.lower()"
   ]
  },
  {
   "cell_type": "code",
   "execution_count": 16,
   "metadata": {},
   "outputs": [],
   "source": [
    "#Replacing numbers with space\n",
    "pattern = '[0-9]'\n",
    "text = re.sub(pattern,'', document_lower)"
   ]
  },
  {
   "cell_type": "code",
   "execution_count": 17,
   "metadata": {},
   "outputs": [],
   "source": [
    "#replacing multiple white spaces with single white space\n",
    "\n",
    "text = re.sub('\\s+',' ',text)"
   ]
  },
  {
   "cell_type": "code",
   "execution_count": 18,
   "metadata": {},
   "outputs": [],
   "source": [
    "clean_text = text.replace('\\n', '')"
   ]
  },
  {
   "cell_type": "code",
   "execution_count": 33,
   "metadata": {
    "scrolled": true
   },
   "outputs": [],
   "source": [
    "#Now we will remove all punctuation from sting\n",
    "punctuations = '!\"#$%&\\'()*+,-/:;<=>?@[\\\\]^_`{|}~'\n",
    "file_cleaned = text.translate(str.maketrans('','',punctuations))"
   ]
  },
  {
   "cell_type": "code",
   "execution_count": 20,
   "metadata": {},
   "outputs": [
    {
     "data": {
      "text/plain": [
       "'the us president donald trump and house of representative democrats should end their deadlock and reach a compromise on the second economic relief package for a battered us economy argues an editorial in the washington post. “the country has already waited too long. a wide consensus among economists and business leaders recognizes that the u.s. government not only can afford to extend additional largescale aid but cannot afford not to” notes the editorial. “yet republicans and democrats are far apart on how much money to provide. the republican senate put forth a . trillion proposal after the democratic house offered a . trillion plan.” “democrats insist on far more in aid to state and local governments than republicans are willing to accept. democrats also want to continue a  supplemental unemployment benefit that republicans would renew only at a lower amount. republicans are also resisting additional funds to help states carry out the november election safely” it adds.'"
      ]
     },
     "execution_count": 20,
     "metadata": {},
     "output_type": "execute_result"
    }
   ],
   "source": [
    "file_cleaned"
   ]
  },
  {
   "cell_type": "code",
   "execution_count": 23,
   "metadata": {},
   "outputs": [],
   "source": [
    "#Now lets convert out string to token\n",
    "sentences = sent_tokenize(file_cleaned)"
   ]
  },
  {
   "cell_type": "code",
   "execution_count": 24,
   "metadata": {},
   "outputs": [],
   "source": [
    "#Now converting into word token\n",
    "tokenize_word = [word_tokenize(sentence) for sentence in sentences]"
   ]
  },
  {
   "cell_type": "code",
   "execution_count": 25,
   "metadata": {},
   "outputs": [],
   "source": [
    "#Now lets remove stopwords from out data\n",
    "for i in range(len(tokenize_word)):\n",
    "    tokenize_word[i] = [word for word in tokenize_word[i] if word not in stopwords.words()]"
   ]
  },
  {
   "cell_type": "code",
   "execution_count": 26,
   "metadata": {},
   "outputs": [],
   "source": [
    "# Training the Word2Vec model\n",
    "model = Word2Vec(tokenize_word, min_count=1)\n",
    "\n",
    "words = model.wv.vocab"
   ]
  },
  {
   "cell_type": "code",
   "execution_count": 27,
   "metadata": {
    "scrolled": false
   },
   "outputs": [
    {
     "name": "stdout",
     "output_type": "stream",
     "text": [
      "Top 5 similar words for token =  house\n",
      "\n",
      "[   ('senate', 0.18457069993019104),\n",
      "    ('would', 0.15783445537090302),\n",
      "    ('.', 0.13231360912322998),\n",
      "    ('u.s.', 0.12241894006729126),\n",
      "    ('wide', 0.12122169137001038)]\n",
      "----------------------------------------------------\n",
      "Top 5 similar words for token =  trump\n",
      "\n",
      "[   ('democrats', 0.27876946330070496),\n",
      "    ('washington', 0.2587333917617798),\n",
      "    ('relief', 0.22904717922210693),\n",
      "    ('afford', 0.22788161039352417),\n",
      "    ('apart', 0.20042356848716736)]\n",
      "----------------------------------------------------\n",
      "Top 5 similar words for token =  consensus\n",
      "\n",
      "[   ('second', 0.22623395919799805),\n",
      "    ('local', 0.20043569803237915),\n",
      "    ('economists', 0.1787157952785492),\n",
      "    ('washington', 0.1610291302204132),\n",
      "    ('economy', 0.15524549782276154)]\n",
      "----------------------------------------------------\n",
      "Top 5 similar words for token =  unemployment\n",
      "\n",
      "[   ('plan.', 0.23601557314395905),\n",
      "    ('post', 0.19739234447479248),\n",
      "    ('provide', 0.16596946120262146),\n",
      "    ('editorial', 0.16122108697891235),\n",
      "    ('second', 0.1575935184955597)]\n",
      "----------------------------------------------------\n",
      "Top 5 similar words for token =  largescale\n",
      "\n",
      "[   ('business', 0.2239641547203064),\n",
      "    ('apart', 0.21223962306976318),\n",
      "    ('renew', 0.2024710476398468),\n",
      "    ('wide', 0.19957104325294495),\n",
      "    ('notes', 0.17350095510482788)]\n",
      "----------------------------------------------------\n",
      "Top 5 similar words for token =  provide\n",
      "\n",
      "[   ('extend', 0.2572309970855713),\n",
      "    ('carry', 0.21603542566299438),\n",
      "    ('editorial', 0.19455786049365997),\n",
      "    ('already', 0.17607049643993378),\n",
      "    ('unemployment', 0.16596946120262146)]\n",
      "----------------------------------------------------\n",
      "Top 5 similar words for token =  supplemental\n",
      "\n",
      "[   ('forth', 0.2324639856815338),\n",
      "    ('election', 0.1720563769340515),\n",
      "    ('trillion', 0.1530456244945526),\n",
      "    ('would', 0.14589698612689972),\n",
      "    ('already', 0.13503104448318481)]\n",
      "----------------------------------------------------\n",
      "Top 5 similar words for token =  unemployment\n",
      "\n",
      "[   ('plan.', 0.23601557314395905),\n",
      "    ('post', 0.19739234447479248),\n",
      "    ('provide', 0.16596946120262146),\n",
      "    ('editorial', 0.16122108697891235),\n",
      "    ('second', 0.1575935184955597)]\n",
      "----------------------------------------------------\n",
      "Top 5 similar words for token =  argues\n",
      "\n",
      "[   ('washington', 0.22155246138572693),\n",
      "    ('economy', 0.19539320468902588),\n",
      "    ('recognizes', 0.16153258085250854),\n",
      "    ('benefit', 0.16117404401302338),\n",
      "    ('democratic', 0.1551104485988617)]\n",
      "----------------------------------------------------\n",
      "Top 5 similar words for token =  democratic\n",
      "\n",
      "[   ('resisting', 0.319629043340683),\n",
      "    ('battered', 0.3112698495388031),\n",
      "    ('government', 0.27259543538093567),\n",
      "    ('editorial', 0.21519312262535095),\n",
      "    ('far', 0.21510645747184753)]\n",
      "----------------------------------------------------\n",
      "Top 5 similar words for token =  election\n",
      "\n",
      "[   ('resisting', 0.3166811466217041),\n",
      "    ('safely', 0.2100633978843689),\n",
      "    ('supplemental', 0.1720564067363739),\n",
      "    ('relief', 0.16215993463993073),\n",
      "    ('washington', 0.15449237823486328)]\n",
      "----------------------------------------------------\n",
      "Top 5 similar words for token =  carry\n",
      "\n",
      "[   ('extend', 0.23418429493904114),\n",
      "    ('relief', 0.21714012324810028),\n",
      "    ('provide', 0.21603542566299438),\n",
      "    ('“', 0.16168208420276642),\n",
      "    ('u.s.', 0.15694931149482727)]\n",
      "----------------------------------------------------\n",
      "Top 5 similar words for token =  ”\n",
      "\n",
      "[   ('adds', 0.20539112389087677),\n",
      "    ('donald', 0.1743183583021164),\n",
      "    ('insist', 0.15647682547569275),\n",
      "    ('country', 0.1462194174528122),\n",
      "    ('amount', 0.12873022258281708)]\n",
      "----------------------------------------------------\n",
      "Top 5 similar words for token =  extend\n",
      "\n",
      "[   ('provide', 0.2572310268878937),\n",
      "    ('carry', 0.23418432474136353),\n",
      "    ('economy', 0.2302493005990982),\n",
      "    ('aid', 0.18786172568798065),\n",
      "    ('president', 0.18754982948303223)]\n",
      "----------------------------------------------------\n",
      "Top 5 similar words for token =  carry\n",
      "\n",
      "[   ('extend', 0.23418429493904114),\n",
      "    ('relief', 0.21714012324810028),\n",
      "    ('provide', 0.21603542566299438),\n",
      "    ('“', 0.16168208420276642),\n",
      "    ('u.s.', 0.15694931149482727)]\n",
      "----------------------------------------------------\n",
      "Top 5 similar words for token =  “\n",
      "\n",
      "[   ('yet', 0.2166198492050171),\n",
      "    ('money', 0.21588489413261414),\n",
      "    ('lower', 0.17310604453086853),\n",
      "    ('us', 0.1660056710243225),\n",
      "    ('carry', 0.16168208420276642)]\n",
      "----------------------------------------------------\n",
      "Top 5 similar words for token =  recognizes\n",
      "\n",
      "[   ('yet', 0.2111627459526062),\n",
      "    ('republicans', 0.2035527229309082),\n",
      "    ('benefit', 0.1906842440366745),\n",
      "    ('proposal', 0.16684117913246155),\n",
      "    ('argues', 0.16153258085250854)]\n",
      "----------------------------------------------------\n",
      "Top 5 similar words for token =  local\n",
      "\n",
      "[   ('.', 0.23108604550361633),\n",
      "    ('consensus', 0.20043569803237915),\n",
      "    ('economy', 0.14361439645290375),\n",
      "    ('recognizes', 0.13588789105415344),\n",
      "    ('proposal', 0.12001905590295792)]\n",
      "----------------------------------------------------\n",
      "Top 5 similar words for token =  help\n",
      "\n",
      "[   ('reach', 0.25403016805648804),\n",
      "    ('donald', 0.1891307681798935),\n",
      "    ('economic', 0.1709495186805725),\n",
      "    ('renew', 0.16127532720565796),\n",
      "    ('u.s.', 0.15315641462802887)]\n",
      "----------------------------------------------------\n",
      "Top 5 similar words for token =  compromise\n",
      "\n",
      "[   ('accept', 0.2527599036693573),\n",
      "    ('democrats', 0.23160627484321594),\n",
      "    ('would', 0.22385844588279724),\n",
      "    ('adds', 0.21543142199516296),\n",
      "    ('republican', 0.1753760576248169)]\n",
      "----------------------------------------------------\n",
      "Top 5 similar words for token =  provide\n",
      "\n",
      "[   ('extend', 0.2572309970855713),\n",
      "    ('carry', 0.21603542566299438),\n",
      "    ('editorial', 0.19455786049365997),\n",
      "    ('already', 0.17607049643993378),\n",
      "    ('unemployment', 0.16596946120262146)]\n",
      "----------------------------------------------------\n"
     ]
    }
   ],
   "source": [
    "#Here we are displaying 5 most similar words for 20 random tokens\n",
    "pp = pprint.PrettyPrinter(indent=4)\n",
    "\n",
    "for i in range(21):\n",
    "    key, val = random.choice(list(words.items())) \n",
    "    similar_words = model.wv.most_similar(key,topn=5)\n",
    "    print(\"Top 5 similar words for token = \",key)\n",
    "    print(\"\")\n",
    "    pp.pprint(similar_words)\n",
    "    print(\"----------------------------------------------------\")"
   ]
  },
  {
   "cell_type": "markdown",
   "metadata": {},
   "source": [
    "#Now lets Plot 2D graph to see words similarity of at least 20 words\n",
    "\n"
   ]
  },
  {
   "cell_type": "code",
   "execution_count": 28,
   "metadata": {},
   "outputs": [],
   "source": [
    "#Getting random 20 words from dictionary\n",
    "\n",
    "vocab = []\n",
    "\n",
    "for i in range(21):\n",
    "    key, val = random.choice(list(words.items())) \n",
    "    vocab.append(key)"
   ]
  },
  {
   "cell_type": "code",
   "execution_count": 29,
   "metadata": {
    "scrolled": false
   },
   "outputs": [
    {
     "data": {
      "text/plain": [
       "['economic',\n",
       " 'yet',\n",
       " 'put',\n",
       " 'plan.',\n",
       " 'economy',\n",
       " '”',\n",
       " 'already',\n",
       " 'offered',\n",
       " 'republican',\n",
       " 'reach',\n",
       " 'trump',\n",
       " 'trillion',\n",
       " 'business',\n",
       " 'local',\n",
       " 'willing',\n",
       " 'proposal',\n",
       " 'waited',\n",
       " 'state',\n",
       " 'trump',\n",
       " 'apart',\n",
       " 'among']"
      ]
     },
     "execution_count": 29,
     "metadata": {},
     "output_type": "execute_result"
    }
   ],
   "source": [
    "vocab"
   ]
  },
  {
   "cell_type": "code",
   "execution_count": 30,
   "metadata": {},
   "outputs": [
    {
     "name": "stderr",
     "output_type": "stream",
     "text": [
      "C:\\Users\\RAJSHREE\\Anaconda3\\envs\\tensorflow\\lib\\site-packages\\ipykernel_launcher.py:9: DeprecationWarning: Call to deprecated `__getitem__` (Method will be removed in 4.0.0, use self.wv.__getitem__() instead).\n",
      "  if __name__ == '__main__':\n"
     ]
    },
    {
     "data": {
      "image/png": "[encoded data removed]",
      "text/plain": [
       "<Figure size 1080x576 with 1 Axes>"
      ]
     },
     "metadata": {
      "needs_background": "light"
     },
     "output_type": "display_data"
    }
   ],
   "source": [
    "#Now lets plot 2D graph\n",
    "from sklearn.manifold import  TSNE\n",
    "def tsne_plot(model,vocab):\n",
    "    labels = []\n",
    "    wordvecs = []\n",
    "\n",
    "    for word in vocab:\n",
    "        wordvecs.append(model[word])\n",
    "        labels.append(word)\n",
    "    \n",
    "    tsne_model = TSNE(perplexity=3, n_components=3, init='pca', random_state=42)\n",
    "    coordinates = tsne_model.fit_transform(wordvecs)\n",
    "\n",
    "    x = []\n",
    "    y = []\n",
    "    for value in coordinates:\n",
    "        x.append(value[0])\n",
    "        y.append(value[1])\n",
    "        \n",
    "    plt.figure(figsize=(15,8)) \n",
    "    for i in range(len(x)):\n",
    "        plt.scatter(x[i],y[i])\n",
    "        plt.annotate(labels[i],\n",
    "                     xy=(x[i], y[i]),\n",
    "                     xytext=(2, 2),\n",
    "                     textcoords='offset points', ha='left')\n",
    "\n",
    "    plt.show()\n",
    "\n",
    "tsne_plot(model,vocab)"
   ]
  },
  {
   "cell_type": "markdown",
   "metadata": {},
   "source": [
    "Here we can see similarity of words with each other, economy is near to republican, state is very waited to family and among."
   ]
  },
  {
   "cell_type": "markdown",
   "metadata": {},
   "source": [
    "Conclusion- we load a document from a text of ptrint.in news, after loading data performed some data cleaning and preprocessing techniques, removed double spaces, special symbols and stopwords from text data. Then trained a model on Word2Vec and created a vocab"
   ]
  }
 ],
 "metadata": {
  "kernelspec": {
   "display_name": "Python 3",
   "language": "python",
   "name": "python3"
  },
  "language_info": {
   "codemirror_mode": {
    "name": "ipython",
    "version": 3
   },
   "file_extension": ".py",
   "mimetype": "text/x-python",
   "name": "python",
   "nbconvert_exporter": "python",
   "pygments_lexer": "ipython3",
   "version": "3.7.7"
  }
 },
 "nbformat": 4,
 "nbformat_minor": 2
}
